{
 "cells": [
  {
   "cell_type": "code",
   "execution_count": 1,
   "metadata": {
    "ExecuteTime": {
     "end_time": "2019-11-18T05:35:20.699801Z",
     "start_time": "2019-11-18T05:35:20.690231Z"
    }
   },
   "outputs": [],
   "source": [
    "import sqlite3\n",
    "import pandas as pd\n",
    "import numpy as np\n",
    "import matplotlib.pyplot as plt\n",
    "import seaborn as sns;sns.set()\n",
    "from sklearn.model_selection import train_test_split\n",
    "from sklearn.metrics import accuracy_score\n",
    "from sklearn.tree import DecisionTreeClassifier\n",
    "from sklearn.metrics import mean_squared_error\n",
    "from itertools import cycle, islice\n",
    "from sklearn.preprocessing import MinMaxScaler\n",
    "from sklearn.utils import resample\n",
    "from math import sqrt\n",
    "\n",
    "%matplotlib inline"
   ]
  },
  {
   "cell_type": "code",
   "execution_count": 2,
   "metadata": {},
   "outputs": [],
   "source": [
    "# Create sql connection\n",
    "cnx = sqlite3.connect('wfdata.sqlite')"
   ]
  },
  {
   "cell_type": "code",
   "execution_count": 3,
   "metadata": {
    "ExecuteTime": {
     "end_time": "2019-11-18T05:35:20.725375Z",
     "start_time": "2019-11-18T05:35:20.702271Z"
    }
   },
   "outputs": [
    {
     "name": "stdout",
     "output_type": "stream",
     "text": [
      "spatial_ref_sys\n",
      "spatialite_history\n",
      "sqlite_sequence\n",
      "geometry_columns\n",
      "spatial_ref_sys_aux\n",
      "views_geometry_columns\n",
      "virts_geometry_columns\n",
      "geometry_columns_statistics\n",
      "views_geometry_columns_statistics\n",
      "virts_geometry_columns_statistics\n",
      "geometry_columns_field_infos\n",
      "views_geometry_columns_field_infos\n",
      "virts_geometry_columns_field_infos\n",
      "geometry_columns_time\n",
      "geometry_columns_auth\n",
      "views_geometry_columns_auth\n",
      "virts_geometry_columns_auth\n",
      "sql_statements_log\n",
      "SpatialIndex\n",
      "ElementaryGeometries\n",
      "KNN\n",
      "Fires\n",
      "idx_Fires_Shape\n",
      "idx_Fires_Shape_node\n",
      "idx_Fires_Shape_rowid\n",
      "idx_Fires_Shape_parent\n",
      "NWCG_UnitIDActive_20170109\n"
     ]
    }
   ],
   "source": [
    "# Tables\n",
    "res = cnx.execute(\"SELECT name FROM sqlite_master WHERE type='table';\")\n",
    "for name in res:\n",
    "    print(name[0])"
   ]
  },
  {
   "cell_type": "code",
   "execution_count": 4,
   "metadata": {
    "ExecuteTime": {
     "end_time": "2019-11-18T05:36:18.752312Z",
     "start_time": "2019-11-18T05:35:20.727607Z"
    },
    "scrolled": true
   },
   "outputs": [],
   "source": [
    "# Read selected features from the table Fire\n",
    "df = pd.read_sql_query(\"SELECT \\\n",
    "                            FIRE_YEAR, DISCOVERY_DATE,\\\n",
    "                            DISCOVERY_DOY, STAT_CAUSE_CODE,\\\n",
    "                            STAT_CAUSE_DESCR,\\\n",
    "                            FIRE_SIZE, FIRE_SIZE_CLASS, LATITUDE,LONGITUDE,\\\n",
    "                            OWNER_DESCR, STATE, COUNTY, FIPS_NAME \\\n",
    "                            FROM Fires\", cnx)"
   ]
  },
  {
   "cell_type": "code",
   "execution_count": 5,
   "metadata": {
    "ExecuteTime": {
     "end_time": "2019-11-18T05:36:19.447987Z",
     "start_time": "2019-11-18T05:36:18.905704Z"
    },
    "scrolled": true
   },
   "outputs": [
    {
     "data": {
      "text/html": [
       "<div>\n",
       "<style scoped>\n",
       "    .dataframe tbody tr th:only-of-type {\n",
       "        vertical-align: middle;\n",
       "    }\n",
       "\n",
       "    .dataframe tbody tr th {\n",
       "        vertical-align: top;\n",
       "    }\n",
       "\n",
       "    .dataframe thead th {\n",
       "        text-align: right;\n",
       "    }\n",
       "</style>\n",
       "<table border=\"1\" class=\"dataframe\">\n",
       "  <thead>\n",
       "    <tr style=\"text-align: right;\">\n",
       "      <th></th>\n",
       "      <th>FIRE_YEAR</th>\n",
       "      <th>DISCOVERY_DATE</th>\n",
       "      <th>DISCOVERY_DOY</th>\n",
       "      <th>STAT_CAUSE_CODE</th>\n",
       "      <th>STAT_CAUSE_DESCR</th>\n",
       "      <th>FIRE_SIZE</th>\n",
       "      <th>FIRE_SIZE_CLASS</th>\n",
       "      <th>LATITUDE</th>\n",
       "      <th>LONGITUDE</th>\n",
       "      <th>OWNER_DESCR</th>\n",
       "      <th>STATE</th>\n",
       "      <th>COUNTY</th>\n",
       "      <th>FIPS_NAME</th>\n",
       "    </tr>\n",
       "  </thead>\n",
       "  <tbody>\n",
       "    <tr>\n",
       "      <th>0</th>\n",
       "      <td>2005</td>\n",
       "      <td>2453403.5</td>\n",
       "      <td>33</td>\n",
       "      <td>9.0</td>\n",
       "      <td>Miscellaneous</td>\n",
       "      <td>0.10</td>\n",
       "      <td>A</td>\n",
       "      <td>40.036944</td>\n",
       "      <td>-121.005833</td>\n",
       "      <td>USFS</td>\n",
       "      <td>CA</td>\n",
       "      <td>63</td>\n",
       "      <td>Plumas</td>\n",
       "    </tr>\n",
       "    <tr>\n",
       "      <th>1</th>\n",
       "      <td>2004</td>\n",
       "      <td>2453137.5</td>\n",
       "      <td>133</td>\n",
       "      <td>1.0</td>\n",
       "      <td>Lightning</td>\n",
       "      <td>0.25</td>\n",
       "      <td>A</td>\n",
       "      <td>38.933056</td>\n",
       "      <td>-120.404444</td>\n",
       "      <td>USFS</td>\n",
       "      <td>CA</td>\n",
       "      <td>61</td>\n",
       "      <td>Placer</td>\n",
       "    </tr>\n",
       "    <tr>\n",
       "      <th>2</th>\n",
       "      <td>2004</td>\n",
       "      <td>2453156.5</td>\n",
       "      <td>152</td>\n",
       "      <td>5.0</td>\n",
       "      <td>Debris Burning</td>\n",
       "      <td>0.10</td>\n",
       "      <td>A</td>\n",
       "      <td>38.984167</td>\n",
       "      <td>-120.735556</td>\n",
       "      <td>STATE OR PRIVATE</td>\n",
       "      <td>CA</td>\n",
       "      <td>17</td>\n",
       "      <td>El Dorado</td>\n",
       "    </tr>\n",
       "    <tr>\n",
       "      <th>3</th>\n",
       "      <td>2004</td>\n",
       "      <td>2453184.5</td>\n",
       "      <td>180</td>\n",
       "      <td>1.0</td>\n",
       "      <td>Lightning</td>\n",
       "      <td>0.10</td>\n",
       "      <td>A</td>\n",
       "      <td>38.559167</td>\n",
       "      <td>-119.913333</td>\n",
       "      <td>USFS</td>\n",
       "      <td>CA</td>\n",
       "      <td>3</td>\n",
       "      <td>Alpine</td>\n",
       "    </tr>\n",
       "    <tr>\n",
       "      <th>4</th>\n",
       "      <td>2004</td>\n",
       "      <td>2453184.5</td>\n",
       "      <td>180</td>\n",
       "      <td>1.0</td>\n",
       "      <td>Lightning</td>\n",
       "      <td>0.10</td>\n",
       "      <td>A</td>\n",
       "      <td>38.559167</td>\n",
       "      <td>-119.933056</td>\n",
       "      <td>USFS</td>\n",
       "      <td>CA</td>\n",
       "      <td>3</td>\n",
       "      <td>Alpine</td>\n",
       "    </tr>\n",
       "  </tbody>\n",
       "</table>\n",
       "</div>"
      ],
      "text/plain": [
       "   FIRE_YEAR  DISCOVERY_DATE  DISCOVERY_DOY  STAT_CAUSE_CODE STAT_CAUSE_DESCR  \\\n",
       "0       2005       2453403.5             33              9.0    Miscellaneous   \n",
       "1       2004       2453137.5            133              1.0        Lightning   \n",
       "2       2004       2453156.5            152              5.0   Debris Burning   \n",
       "3       2004       2453184.5            180              1.0        Lightning   \n",
       "4       2004       2453184.5            180              1.0        Lightning   \n",
       "\n",
       "   FIRE_SIZE FIRE_SIZE_CLASS   LATITUDE   LONGITUDE       OWNER_DESCR STATE  \\\n",
       "0       0.10               A  40.036944 -121.005833              USFS    CA   \n",
       "1       0.25               A  38.933056 -120.404444              USFS    CA   \n",
       "2       0.10               A  38.984167 -120.735556  STATE OR PRIVATE    CA   \n",
       "3       0.10               A  38.559167 -119.913333              USFS    CA   \n",
       "4       0.10               A  38.559167 -119.933056              USFS    CA   \n",
       "\n",
       "  COUNTY  FIPS_NAME  \n",
       "0     63     Plumas  \n",
       "1     61     Placer  \n",
       "2     17  El Dorado  \n",
       "3      3     Alpine  \n",
       "4      3     Alpine  "
      ]
     },
     "execution_count": 5,
     "metadata": {},
     "output_type": "execute_result"
    }
   ],
   "source": [
    "df.head()"
   ]
  },
  {
   "cell_type": "code",
   "execution_count": 6,
   "metadata": {
    "ExecuteTime": {
     "end_time": "2019-11-18T05:36:19.470668Z",
     "start_time": "2019-11-18T05:36:19.455172Z"
    }
   },
   "outputs": [
    {
     "data": {
      "text/plain": [
       "(1880465, 13)"
      ]
     },
     "execution_count": 6,
     "metadata": {},
     "output_type": "execute_result"
    }
   ],
   "source": [
    "df.shape"
   ]
  },
  {
   "cell_type": "markdown",
   "metadata": {},
   "source": [
    "# Initial Data Exploration"
   ]
  },
  {
   "cell_type": "markdown",
   "metadata": {},
   "source": [
    "## Wildfire in US"
   ]
  },
  {
   "cell_type": "code",
   "execution_count": 7,
   "metadata": {
    "ExecuteTime": {
     "end_time": "2019-11-18T05:36:19.545747Z",
     "start_time": "2019-11-18T05:36:19.476191Z"
    }
   },
   "outputs": [],
   "source": [
    "# yearly number of fires\n",
    "numFire_year = df['FIRE_YEAR'].value_counts().sort_index()"
   ]
  },
  {
   "cell_type": "code",
   "execution_count": 8,
   "metadata": {
    "ExecuteTime": {
     "end_time": "2019-11-18T05:36:20.578663Z",
     "start_time": "2019-11-18T05:36:19.595065Z"
    }
   },
   "outputs": [
    {
     "data": {
      "image/png": "[encoded data removed]",
      "text/plain": [
       "<Figure size 720x360 with 1 Axes>"
      ]
     },
     "metadata": {
      "needs_background": "light"
     },
     "output_type": "display_data"
    }
   ],
   "source": [
    "# plot yearly number of fires\n",
    "fig, axs = plt.subplots(figsize=(10, 5))\n",
    "numFire_year.plot(kind='bar', ax=axs)\n",
    "axs.set_title('US Wildfire from 1992 to 2015')\n",
    "axs.set_ylabel('Count', fontsize=12)\n",
    "axs.yaxis.grid(True)\n",
    "plt.tight_layout()"
   ]
  },
  {
   "cell_type": "code",
   "execution_count": 9,
   "metadata": {
    "ExecuteTime": {
     "end_time": "2019-11-18T05:36:20.799656Z",
     "start_time": "2019-11-18T05:36:20.758205Z"
    }
   },
   "outputs": [
    {
     "data": {
      "text/plain": [
       "count        24.000000\n",
       "mean      78352.708333\n",
       "std       12759.039409\n",
       "min       61450.000000\n",
       "25%       68342.750000\n",
       "50%       75615.000000\n",
       "75%       87091.250000\n",
       "max      114004.000000\n",
       "Name: FIRE_YEAR, dtype: float64"
      ]
     },
     "execution_count": 9,
     "metadata": {},
     "output_type": "execute_result"
    }
   ],
   "source": [
    "numFire_year.describe()"
   ]
  },
  {
   "cell_type": "markdown",
   "metadata": {},
   "source": [
    "## Wildfire in California"
   ]
  },
  {
   "cell_type": "code",
   "execution_count": 10,
   "metadata": {},
   "outputs": [],
   "source": [
    "# data for wildfire in California\n",
    "df_CA = df[df['STATE']=='CA']"
   ]
  },
  {
   "cell_type": "code",
   "execution_count": 11,
   "metadata": {},
   "outputs": [
    {
     "data": {
      "text/html": [
       "<div>\n",
       "<style scoped>\n",
       "    .dataframe tbody tr th:only-of-type {\n",
       "        vertical-align: middle;\n",
       "    }\n",
       "\n",
       "    .dataframe tbody tr th {\n",
       "        vertical-align: top;\n",
       "    }\n",
       "\n",
       "    .dataframe thead th {\n",
       "        text-align: right;\n",
       "    }\n",
       "</style>\n",
       "<table border=\"1\" class=\"dataframe\">\n",
       "  <thead>\n",
       "    <tr style=\"text-align: right;\">\n",
       "      <th></th>\n",
       "      <th>FIRE_YEAR</th>\n",
       "      <th>DISCOVERY_DATE</th>\n",
       "      <th>DISCOVERY_DOY</th>\n",
       "      <th>STAT_CAUSE_CODE</th>\n",
       "      <th>STAT_CAUSE_DESCR</th>\n",
       "      <th>FIRE_SIZE</th>\n",
       "      <th>FIRE_SIZE_CLASS</th>\n",
       "      <th>LATITUDE</th>\n",
       "      <th>LONGITUDE</th>\n",
       "      <th>OWNER_DESCR</th>\n",
       "      <th>STATE</th>\n",
       "      <th>COUNTY</th>\n",
       "      <th>FIPS_NAME</th>\n",
       "    </tr>\n",
       "  </thead>\n",
       "  <tbody>\n",
       "    <tr>\n",
       "      <th>0</th>\n",
       "      <td>2005</td>\n",
       "      <td>2453403.5</td>\n",
       "      <td>33</td>\n",
       "      <td>9.0</td>\n",
       "      <td>Miscellaneous</td>\n",
       "      <td>0.10</td>\n",
       "      <td>A</td>\n",
       "      <td>40.036944</td>\n",
       "      <td>-121.005833</td>\n",
       "      <td>USFS</td>\n",
       "      <td>CA</td>\n",
       "      <td>63</td>\n",
       "      <td>Plumas</td>\n",
       "    </tr>\n",
       "    <tr>\n",
       "      <th>1</th>\n",
       "      <td>2004</td>\n",
       "      <td>2453137.5</td>\n",
       "      <td>133</td>\n",
       "      <td>1.0</td>\n",
       "      <td>Lightning</td>\n",
       "      <td>0.25</td>\n",
       "      <td>A</td>\n",
       "      <td>38.933056</td>\n",
       "      <td>-120.404444</td>\n",
       "      <td>USFS</td>\n",
       "      <td>CA</td>\n",
       "      <td>61</td>\n",
       "      <td>Placer</td>\n",
       "    </tr>\n",
       "    <tr>\n",
       "      <th>2</th>\n",
       "      <td>2004</td>\n",
       "      <td>2453156.5</td>\n",
       "      <td>152</td>\n",
       "      <td>5.0</td>\n",
       "      <td>Debris Burning</td>\n",
       "      <td>0.10</td>\n",
       "      <td>A</td>\n",
       "      <td>38.984167</td>\n",
       "      <td>-120.735556</td>\n",
       "      <td>STATE OR PRIVATE</td>\n",
       "      <td>CA</td>\n",
       "      <td>17</td>\n",
       "      <td>El Dorado</td>\n",
       "    </tr>\n",
       "    <tr>\n",
       "      <th>3</th>\n",
       "      <td>2004</td>\n",
       "      <td>2453184.5</td>\n",
       "      <td>180</td>\n",
       "      <td>1.0</td>\n",
       "      <td>Lightning</td>\n",
       "      <td>0.10</td>\n",
       "      <td>A</td>\n",
       "      <td>38.559167</td>\n",
       "      <td>-119.913333</td>\n",
       "      <td>USFS</td>\n",
       "      <td>CA</td>\n",
       "      <td>3</td>\n",
       "      <td>Alpine</td>\n",
       "    </tr>\n",
       "    <tr>\n",
       "      <th>4</th>\n",
       "      <td>2004</td>\n",
       "      <td>2453184.5</td>\n",
       "      <td>180</td>\n",
       "      <td>1.0</td>\n",
       "      <td>Lightning</td>\n",
       "      <td>0.10</td>\n",
       "      <td>A</td>\n",
       "      <td>38.559167</td>\n",
       "      <td>-119.933056</td>\n",
       "      <td>USFS</td>\n",
       "      <td>CA</td>\n",
       "      <td>3</td>\n",
       "      <td>Alpine</td>\n",
       "    </tr>\n",
       "  </tbody>\n",
       "</table>\n",
       "</div>"
      ],
      "text/plain": [
       "   FIRE_YEAR  DISCOVERY_DATE  DISCOVERY_DOY  STAT_CAUSE_CODE STAT_CAUSE_DESCR  \\\n",
       "0       2005       2453403.5             33              9.0    Miscellaneous   \n",
       "1       2004       2453137.5            133              1.0        Lightning   \n",
       "2       2004       2453156.5            152              5.0   Debris Burning   \n",
       "3       2004       2453184.5            180              1.0        Lightning   \n",
       "4       2004       2453184.5            180              1.0        Lightning   \n",
       "\n",
       "   FIRE_SIZE FIRE_SIZE_CLASS   LATITUDE   LONGITUDE       OWNER_DESCR STATE  \\\n",
       "0       0.10               A  40.036944 -121.005833              USFS    CA   \n",
       "1       0.25               A  38.933056 -120.404444              USFS    CA   \n",
       "2       0.10               A  38.984167 -120.735556  STATE OR PRIVATE    CA   \n",
       "3       0.10               A  38.559167 -119.913333              USFS    CA   \n",
       "4       0.10               A  38.559167 -119.933056              USFS    CA   \n",
       "\n",
       "  COUNTY  FIPS_NAME  \n",
       "0     63     Plumas  \n",
       "1     61     Placer  \n",
       "2     17  El Dorado  \n",
       "3      3     Alpine  \n",
       "4      3     Alpine  "
      ]
     },
     "execution_count": 11,
     "metadata": {},
     "output_type": "execute_result"
    }
   ],
   "source": [
    "df_CA.head()"
   ]
  },
  {
   "cell_type": "code",
   "execution_count": 12,
   "metadata": {},
   "outputs": [],
   "source": [
    "numFire_year_CA = df_CA['FIRE_YEAR'].value_counts().sort_index()"
   ]
  },
  {
   "cell_type": "code",
   "execution_count": 13,
   "metadata": {},
   "outputs": [
    {
     "data": {
      "text/plain": [
       "count       24.000000\n",
       "mean      7897.916667\n",
       "std       1162.025178\n",
       "min       5776.000000\n",
       "25%       7094.000000\n",
       "50%       7828.500000\n",
       "75%       8585.000000\n",
       "max      10833.000000\n",
       "Name: FIRE_YEAR, dtype: float64"
      ]
     },
     "execution_count": 13,
     "metadata": {},
     "output_type": "execute_result"
    }
   ],
   "source": [
    "numFire_year_CA.describe()"
   ]
  },
  {
   "cell_type": "code",
   "execution_count": 14,
   "metadata": {
    "scrolled": false
   },
   "outputs": [
    {
     "data": {
      "image/png": "[encoded data removed]",
      "text/plain": [
       "<Figure size 720x360 with 1 Axes>"
      ]
     },
     "metadata": {
      "needs_background": "light"
     },
     "output_type": "display_data"
    }
   ],
   "source": [
    "fig, axs = plt.subplots(figsize=(10, 5))\n",
    "numFire_year_CA.plot(kind='bar')\n",
    "axs.set_title('US Wildfire from 1992 to 2015 CA', fontsize=12)\n",
    "axs.set_ylabel('Count', fontsize=12)\n",
    "axs.yaxis.grid(True)\n",
    "plt.tight_layout()"
   ]
  },
  {
   "cell_type": "markdown",
   "metadata": {},
   "source": [
    "## Most and least fire prone counties in California"
   ]
  },
  {
   "cell_type": "code",
   "execution_count": 15,
   "metadata": {
    "ExecuteTime": {
     "end_time": "2019-11-18T05:36:21.266692Z",
     "start_time": "2019-11-18T05:36:20.942642Z"
    }
   },
   "outputs": [
    {
     "name": "stdout",
     "output_type": "stream",
     "text": [
      "number of counties in CA = 59\n"
     ]
    }
   ],
   "source": [
    "counties = df_CA['FIPS_NAME'].value_counts().sort_values(ascending=False)\n",
    "print('number of counties in CA =', len(counties))"
   ]
  },
  {
   "cell_type": "code",
   "execution_count": 16,
   "metadata": {
    "ExecuteTime": {
     "end_time": "2019-11-18T05:36:21.279671Z",
     "start_time": "2019-11-18T05:36:21.270021Z"
    }
   },
   "outputs": [
    {
     "data": {
      "text/plain": [
       "count      59.000000\n",
       "mean      952.898305\n",
       "std      1091.072151\n",
       "min         1.000000\n",
       "25%       246.500000\n",
       "50%       591.000000\n",
       "75%      1265.000000\n",
       "max      6925.000000\n",
       "Name: FIPS_NAME, dtype: float64"
      ]
     },
     "execution_count": 16,
     "metadata": {},
     "output_type": "execute_result"
    }
   ],
   "source": [
    "counties.describe()"
   ]
  },
  {
   "cell_type": "code",
   "execution_count": 17,
   "metadata": {
    "ExecuteTime": {
     "end_time": "2019-11-18T05:36:21.291564Z",
     "start_time": "2019-11-18T05:36:21.281381Z"
    }
   },
   "outputs": [
    {
     "data": {
      "text/plain": [
       "Riverside         6925\n",
       "Los Angeles       2703\n",
       "El Dorado         2676\n",
       "San Bernardino    2642\n",
       "San Diego         2443\n",
       "Fresno            2183\n",
       "Siskiyou          2156\n",
       "Shasta            2118\n",
       "Butte             1768\n",
       "Kern              1737\n",
       "Name: FIPS_NAME, dtype: int64"
      ]
     },
     "execution_count": 17,
     "metadata": {},
     "output_type": "execute_result"
    }
   ],
   "source": [
    "# ten most fire-prone counties\n",
    "counties[:10]"
   ]
  },
  {
   "cell_type": "code",
   "execution_count": 18,
   "metadata": {
    "ExecuteTime": {
     "end_time": "2019-11-18T05:36:21.306324Z",
     "start_time": "2019-11-18T05:36:21.295457Z"
    },
    "scrolled": true
   },
   "outputs": [
    {
     "data": {
      "text/plain": [
       "San Benito       157\n",
       "Solano           149\n",
       "Ventura          132\n",
       "Kings            119\n",
       "Colusa           111\n",
       "Glenn             94\n",
       "Marin             69\n",
       "Sutter            68\n",
       "San Francisco     15\n",
       "Douglas            1\n",
       "Name: FIPS_NAME, dtype: int64"
      ]
     },
     "execution_count": 18,
     "metadata": {},
     "output_type": "execute_result"
    }
   ],
   "source": [
    "# ten least fire-prone counties\n",
    "counties[-10:]"
   ]
  },
  {
   "cell_type": "code",
   "execution_count": 19,
   "metadata": {
    "ExecuteTime": {
     "end_time": "2019-11-18T05:36:21.632435Z",
     "start_time": "2019-11-18T05:36:21.309403Z"
    }
   },
   "outputs": [
    {
     "data": {
      "image/png": "[encoded data removed]",
      "text/plain": [
       "<Figure size 576x360 with 1 Axes>"
      ]
     },
     "metadata": {
      "needs_background": "light"
     },
     "output_type": "display_data"
    }
   ],
   "source": [
    "# plot ten most fire-prone counties\n",
    "fig, axs = plt.subplots(figsize=(8, 5))\n",
    "counties[:10].plot(kind='bar')\n",
    "axs.set_title('10 Most Fire-prone Counties in Califonia', fontsize=12)\n",
    "plt.ylabel('Number of wildfires', fontsize=12)\n",
    "axs.yaxis.grid(True)\n",
    "plt.tight_layout()"
   ]
  },
  {
   "cell_type": "code",
   "execution_count": 20,
   "metadata": {},
   "outputs": [
    {
     "data": {
      "image/png": "[encoded data removed]",
      "text/plain": [
       "<Figure size 576x360 with 1 Axes>"
      ]
     },
     "metadata": {
      "needs_background": "light"
     },
     "output_type": "display_data"
    }
   ],
   "source": [
    "# plot ten least fire-prone counties\n",
    "fig, axs = plt.subplots(figsize=(8, 5))\n",
    "counties[-10:].plot(kind='bar', color='g')\n",
    "axs.set_title('10 Least Fire-prone Counties in Califonia', fontsize=12)\n",
    "axs.set_ylabel('Number of wildfires', fontsize=12)\n",
    "axs.yaxis.grid(True)\n",
    "plt.tight_layout()"
   ]
  },
  {
   "cell_type": "markdown",
   "metadata": {},
   "source": [
    "## Fire size"
   ]
  },
  {
   "cell_type": "code",
   "execution_count": 21,
   "metadata": {
    "ExecuteTime": {
     "end_time": "2019-11-18T05:36:21.842134Z",
     "start_time": "2019-11-18T05:36:21.636884Z"
    }
   },
   "outputs": [],
   "source": [
    "fire_size = df_CA['FIRE_SIZE_CLASS'].value_counts().sort_index()"
   ]
  },
  {
   "cell_type": "code",
   "execution_count": 22,
   "metadata": {},
   "outputs": [],
   "source": [
    "fire_size_catagories = {'A': '0.25', 'B': '0.26, 9.9', 'C': '10.0, 99.9',\n",
    "                        'D': '100, 299', 'E': '300, 999', 'F': '1000,4999', 'G': '5000'}"
   ]
  },
  {
   "cell_type": "code",
   "execution_count": 23,
   "metadata": {
    "ExecuteTime": {
     "end_time": "2019-11-18T05:36:21.849844Z",
     "start_time": "2019-11-18T05:36:21.844343Z"
    }
   },
   "outputs": [
    {
     "data": {
      "text/plain": [
       "A    98309\n",
       "B    76942\n",
       "C     9825\n",
       "D     2137\n",
       "E     1187\n",
       "F      756\n",
       "G      394\n",
       "Name: FIRE_SIZE_CLASS, dtype: int64"
      ]
     },
     "execution_count": 23,
     "metadata": {},
     "output_type": "execute_result"
    }
   ],
   "source": [
    "fire_size"
   ]
  },
  {
   "cell_type": "code",
   "execution_count": 24,
   "metadata": {
    "ExecuteTime": {
     "end_time": "2019-11-18T05:36:22.001256Z",
     "start_time": "2019-11-18T05:36:21.851763Z"
    },
    "scrolled": false
   },
   "outputs": [
    {
     "data": {
      "image/png": "[encoded data removed]",
      "text/plain": [
       "<Figure size 576x360 with 1 Axes>"
      ]
     },
     "metadata": {
      "needs_background": "light"
     },
     "output_type": "display_data"
    }
   ],
   "source": [
    "fig, axs = plt.subplots(figsize=(8, 5))\n",
    "fire_size.plot(kind='bar')\n",
    "axs.set_title('Fire_size Classes', fontsize=16)\n",
    "axs.set_ylabel('Count',fontsize = 16)\n",
    "axs.yaxis.grid(True)\n",
    "plt.xticks(fontsize=12, rotation=0)\n",
    "plt.yticks(fontsize=12)\n",
    "plt.tight_layout()"
   ]
  },
  {
   "cell_type": "markdown",
   "metadata": {},
   "source": [
    "## Stated cause of fire"
   ]
  },
  {
   "cell_type": "code",
   "execution_count": 25,
   "metadata": {
    "ExecuteTime": {
     "end_time": "2019-11-18T05:36:22.365476Z",
     "start_time": "2019-11-18T05:36:22.004770Z"
    }
   },
   "outputs": [],
   "source": [
    "stated_cause = df_CA['STAT_CAUSE_DESCR'].value_counts(\n",
    ").sort_values(ascending=False)"
   ]
  },
  {
   "cell_type": "code",
   "execution_count": 26,
   "metadata": {
    "ExecuteTime": {
     "end_time": "2019-11-18T05:36:22.375028Z",
     "start_time": "2019-11-18T05:36:22.368447Z"
    }
   },
   "outputs": [
    {
     "data": {
      "text/plain": [
       "Miscellaneous        51943\n",
       "Equipment Use        39407\n",
       "Lightning            27000\n",
       "Arson                19635\n",
       "Debris Burning       14318\n",
       "Missing/Undefined    12605\n",
       "Campfire              9516\n",
       "Children              6930\n",
       "Smoking               5936\n",
       "Powerline             1198\n",
       "Railroad               720\n",
       "Fireworks              219\n",
       "Structure              123\n",
       "Name: STAT_CAUSE_DESCR, dtype: int64"
      ]
     },
     "execution_count": 26,
     "metadata": {},
     "output_type": "execute_result"
    }
   ],
   "source": [
    "stated_cause"
   ]
  },
  {
   "cell_type": "code",
   "execution_count": 27,
   "metadata": {
    "ExecuteTime": {
     "end_time": "2019-11-18T05:36:22.546435Z",
     "start_time": "2019-11-18T05:36:22.378012Z"
    },
    "scrolled": false
   },
   "outputs": [
    {
     "data": {
      "image/png": "[encoded data removed]",
      "text/plain": [
       "<Figure size 720x432 with 1 Axes>"
      ]
     },
     "metadata": {
      "needs_background": "light"
     },
     "output_type": "display_data"
    }
   ],
   "source": [
    "# plot stated cause of fire\n",
    "fig, axs = plt.subplots(figsize=(10, 6))\n",
    "stated_cause.plot(kind='bar')\n",
    "axs.set_title('Stated Causes of WildFire in Califonia',fontsize=14)\n",
    "axs.set_ylabel('Count',fontsize=12)\n",
    "axs.yaxis.grid(True)\n",
    "plt.tight_layout()"
   ]
  },
  {
   "cell_type": "markdown",
   "metadata": {},
   "source": [
    "# Data Preparation"
   ]
  },
  {
   "cell_type": "code",
   "execution_count": 28,
   "metadata": {},
   "outputs": [
    {
     "data": {
      "text/plain": [
       "FIRE_YEAR           189550\n",
       "DISCOVERY_DATE      189550\n",
       "DISCOVERY_DOY       189550\n",
       "STAT_CAUSE_CODE     189550\n",
       "STAT_CAUSE_DESCR    189550\n",
       "FIRE_SIZE           189550\n",
       "FIRE_SIZE_CLASS     189550\n",
       "LATITUDE            189550\n",
       "LONGITUDE           189550\n",
       "OWNER_DESCR         189550\n",
       "STATE               189550\n",
       "COUNTY               56221\n",
       "FIPS_NAME            56221\n",
       "dtype: int64"
      ]
     },
     "execution_count": 28,
     "metadata": {},
     "output_type": "execute_result"
    }
   ],
   "source": [
    "# check for missing values\n",
    "df_CA.count()"
   ]
  },
  {
   "cell_type": "code",
   "execution_count": 29,
   "metadata": {},
   "outputs": [],
   "source": [
    "df_CA_1 = df_CA.drop(['COUNTY','FIPS_NAME'], axis=1)"
   ]
  },
  {
   "cell_type": "code",
   "execution_count": 30,
   "metadata": {},
   "outputs": [
    {
     "data": {
      "text/plain": [
       "FIRE_YEAR           False\n",
       "DISCOVERY_DATE      False\n",
       "DISCOVERY_DOY       False\n",
       "STAT_CAUSE_CODE     False\n",
       "STAT_CAUSE_DESCR    False\n",
       "FIRE_SIZE           False\n",
       "FIRE_SIZE_CLASS     False\n",
       "LATITUDE            False\n",
       "LONGITUDE           False\n",
       "OWNER_DESCR         False\n",
       "STATE               False\n",
       "dtype: bool"
      ]
     },
     "execution_count": 30,
     "metadata": {},
     "output_type": "execute_result"
    }
   ],
   "source": [
    "df_CA_1.isnull().any()"
   ]
  },
  {
   "cell_type": "markdown",
   "metadata": {},
   "source": [
    "### Predicting stated cause of fire "
   ]
  },
  {
   "cell_type": "code",
   "execution_count": 31,
   "metadata": {},
   "outputs": [
    {
     "data": {
      "text/plain": [
       "array(['Miscellaneous', 'Lightning', 'Debris Burning', 'Campfire',\n",
       "       'Equipment Use', 'Arson', 'Children', 'Railroad', 'Smoking',\n",
       "       'Powerline', 'Structure', 'Fireworks', 'Missing/Undefined'],\n",
       "      dtype=object)"
      ]
     },
     "execution_count": 31,
     "metadata": {},
     "output_type": "execute_result"
    }
   ],
   "source": [
    "# unique stated caus\n",
    "df['STAT_CAUSE_DESCR'].unique()"
   ]
  },
  {
   "cell_type": "code",
   "execution_count": 32,
   "metadata": {},
   "outputs": [],
   "source": [
    "# dictionary of stated cause name and code\n",
    "stat_cause_dict = {'Miscellaneous': 9.0,\n",
    "                   'Equipment Use': 2.0,\n",
    "                   'Lightning': 1.0,\n",
    "                   'Arson': 7.0,\n",
    "                   'Debris Burning': 5.0,\n",
    "                   'Missing/Undefined': 13.0,\n",
    "                   'Campfire': 4.0,\n",
    "                   'Children': 8.0,\n",
    "                   'Smoking': 3.0,\n",
    "                   'Railroad': 6.0,\n",
    "                   'Powerline': 11.0,\n",
    "                   'Fireworks': 10.0,\n",
    "                   'Structure': 12.0}"
   ]
  },
  {
   "cell_type": "code",
   "execution_count": 33,
   "metadata": {},
   "outputs": [],
   "source": [
    "features = ['FIRE_YEAR', 'DISCOVERY_DATE',\n",
    "            'DISCOVERY_DOY', 'FIRE_SIZE', 'LATITUDE', 'LONGITUDE']"
   ]
  },
  {
   "cell_type": "code",
   "execution_count": 34,
   "metadata": {},
   "outputs": [],
   "source": [
    "df_CA_1.drop(['STAT_CAUSE_DESCR'],axis=1, inplace=True)"
   ]
  },
  {
   "cell_type": "code",
   "execution_count": 35,
   "metadata": {},
   "outputs": [
    {
     "data": {
      "text/html": [
       "<div>\n",
       "<style scoped>\n",
       "    .dataframe tbody tr th:only-of-type {\n",
       "        vertical-align: middle;\n",
       "    }\n",
       "\n",
       "    .dataframe tbody tr th {\n",
       "        vertical-align: top;\n",
       "    }\n",
       "\n",
       "    .dataframe thead th {\n",
       "        text-align: right;\n",
       "    }\n",
       "</style>\n",
       "<table border=\"1\" class=\"dataframe\">\n",
       "  <thead>\n",
       "    <tr style=\"text-align: right;\">\n",
       "      <th></th>\n",
       "      <th>FIRE_YEAR</th>\n",
       "      <th>DISCOVERY_DATE</th>\n",
       "      <th>DISCOVERY_DOY</th>\n",
       "      <th>STAT_CAUSE_CODE</th>\n",
       "      <th>FIRE_SIZE</th>\n",
       "      <th>FIRE_SIZE_CLASS</th>\n",
       "      <th>LATITUDE</th>\n",
       "      <th>LONGITUDE</th>\n",
       "      <th>OWNER_DESCR</th>\n",
       "      <th>STATE</th>\n",
       "    </tr>\n",
       "  </thead>\n",
       "  <tbody>\n",
       "    <tr>\n",
       "      <th>0</th>\n",
       "      <td>2005</td>\n",
       "      <td>2453403.5</td>\n",
       "      <td>33</td>\n",
       "      <td>9.0</td>\n",
       "      <td>0.10</td>\n",
       "      <td>A</td>\n",
       "      <td>40.036944</td>\n",
       "      <td>-121.005833</td>\n",
       "      <td>USFS</td>\n",
       "      <td>CA</td>\n",
       "    </tr>\n",
       "    <tr>\n",
       "      <th>1</th>\n",
       "      <td>2004</td>\n",
       "      <td>2453137.5</td>\n",
       "      <td>133</td>\n",
       "      <td>1.0</td>\n",
       "      <td>0.25</td>\n",
       "      <td>A</td>\n",
       "      <td>38.933056</td>\n",
       "      <td>-120.404444</td>\n",
       "      <td>USFS</td>\n",
       "      <td>CA</td>\n",
       "    </tr>\n",
       "    <tr>\n",
       "      <th>2</th>\n",
       "      <td>2004</td>\n",
       "      <td>2453156.5</td>\n",
       "      <td>152</td>\n",
       "      <td>5.0</td>\n",
       "      <td>0.10</td>\n",
       "      <td>A</td>\n",
       "      <td>38.984167</td>\n",
       "      <td>-120.735556</td>\n",
       "      <td>STATE OR PRIVATE</td>\n",
       "      <td>CA</td>\n",
       "    </tr>\n",
       "    <tr>\n",
       "      <th>3</th>\n",
       "      <td>2004</td>\n",
       "      <td>2453184.5</td>\n",
       "      <td>180</td>\n",
       "      <td>1.0</td>\n",
       "      <td>0.10</td>\n",
       "      <td>A</td>\n",
       "      <td>38.559167</td>\n",
       "      <td>-119.913333</td>\n",
       "      <td>USFS</td>\n",
       "      <td>CA</td>\n",
       "    </tr>\n",
       "    <tr>\n",
       "      <th>4</th>\n",
       "      <td>2004</td>\n",
       "      <td>2453184.5</td>\n",
       "      <td>180</td>\n",
       "      <td>1.0</td>\n",
       "      <td>0.10</td>\n",
       "      <td>A</td>\n",
       "      <td>38.559167</td>\n",
       "      <td>-119.933056</td>\n",
       "      <td>USFS</td>\n",
       "      <td>CA</td>\n",
       "    </tr>\n",
       "  </tbody>\n",
       "</table>\n",
       "</div>"
      ],
      "text/plain": [
       "   FIRE_YEAR  DISCOVERY_DATE  DISCOVERY_DOY  STAT_CAUSE_CODE  FIRE_SIZE  \\\n",
       "0       2005       2453403.5             33              9.0       0.10   \n",
       "1       2004       2453137.5            133              1.0       0.25   \n",
       "2       2004       2453156.5            152              5.0       0.10   \n",
       "3       2004       2453184.5            180              1.0       0.10   \n",
       "4       2004       2453184.5            180              1.0       0.10   \n",
       "\n",
       "  FIRE_SIZE_CLASS   LATITUDE   LONGITUDE       OWNER_DESCR STATE  \n",
       "0               A  40.036944 -121.005833              USFS    CA  \n",
       "1               A  38.933056 -120.404444              USFS    CA  \n",
       "2               A  38.984167 -120.735556  STATE OR PRIVATE    CA  \n",
       "3               A  38.559167 -119.913333              USFS    CA  \n",
       "4               A  38.559167 -119.933056              USFS    CA  "
      ]
     },
     "execution_count": 35,
     "metadata": {},
     "output_type": "execute_result"
    }
   ],
   "source": [
    "df_CA_1.head()"
   ]
  },
  {
   "cell_type": "code",
   "execution_count": 36,
   "metadata": {},
   "outputs": [],
   "source": [
    "df_CA_dummy = pd.concat(\n",
    "    [pd.get_dummies(df_CA_1), \n",
    "     pd.get_dummies(df_CA_1['FIRE_YEAR'])], axis=1)\\\n",
    "    .drop(['FIRE_YEAR'], axis=1)"
   ]
  },
  {
   "cell_type": "code",
   "execution_count": 37,
   "metadata": {},
   "outputs": [
    {
     "data": {
      "text/html": [
       "<div>\n",
       "<style scoped>\n",
       "    .dataframe tbody tr th:only-of-type {\n",
       "        vertical-align: middle;\n",
       "    }\n",
       "\n",
       "    .dataframe tbody tr th {\n",
       "        vertical-align: top;\n",
       "    }\n",
       "\n",
       "    .dataframe thead th {\n",
       "        text-align: right;\n",
       "    }\n",
       "</style>\n",
       "<table border=\"1\" class=\"dataframe\">\n",
       "  <thead>\n",
       "    <tr style=\"text-align: right;\">\n",
       "      <th></th>\n",
       "      <th>DISCOVERY_DATE</th>\n",
       "      <th>DISCOVERY_DOY</th>\n",
       "      <th>STAT_CAUSE_CODE</th>\n",
       "      <th>FIRE_SIZE</th>\n",
       "      <th>LATITUDE</th>\n",
       "      <th>LONGITUDE</th>\n",
       "      <th>FIRE_SIZE_CLASS_A</th>\n",
       "      <th>FIRE_SIZE_CLASS_B</th>\n",
       "      <th>FIRE_SIZE_CLASS_C</th>\n",
       "      <th>FIRE_SIZE_CLASS_D</th>\n",
       "      <th>...</th>\n",
       "      <th>2006</th>\n",
       "      <th>2007</th>\n",
       "      <th>2008</th>\n",
       "      <th>2009</th>\n",
       "      <th>2010</th>\n",
       "      <th>2011</th>\n",
       "      <th>2012</th>\n",
       "      <th>2013</th>\n",
       "      <th>2014</th>\n",
       "      <th>2015</th>\n",
       "    </tr>\n",
       "  </thead>\n",
       "  <tbody>\n",
       "    <tr>\n",
       "      <th>0</th>\n",
       "      <td>2453403.5</td>\n",
       "      <td>33</td>\n",
       "      <td>9.0</td>\n",
       "      <td>0.10</td>\n",
       "      <td>40.036944</td>\n",
       "      <td>-121.005833</td>\n",
       "      <td>1</td>\n",
       "      <td>0</td>\n",
       "      <td>0</td>\n",
       "      <td>0</td>\n",
       "      <td>...</td>\n",
       "      <td>0</td>\n",
       "      <td>0</td>\n",
       "      <td>0</td>\n",
       "      <td>0</td>\n",
       "      <td>0</td>\n",
       "      <td>0</td>\n",
       "      <td>0</td>\n",
       "      <td>0</td>\n",
       "      <td>0</td>\n",
       "      <td>0</td>\n",
       "    </tr>\n",
       "    <tr>\n",
       "      <th>1</th>\n",
       "      <td>2453137.5</td>\n",
       "      <td>133</td>\n",
       "      <td>1.0</td>\n",
       "      <td>0.25</td>\n",
       "      <td>38.933056</td>\n",
       "      <td>-120.404444</td>\n",
       "      <td>1</td>\n",
       "      <td>0</td>\n",
       "      <td>0</td>\n",
       "      <td>0</td>\n",
       "      <td>...</td>\n",
       "      <td>0</td>\n",
       "      <td>0</td>\n",
       "      <td>0</td>\n",
       "      <td>0</td>\n",
       "      <td>0</td>\n",
       "      <td>0</td>\n",
       "      <td>0</td>\n",
       "      <td>0</td>\n",
       "      <td>0</td>\n",
       "      <td>0</td>\n",
       "    </tr>\n",
       "    <tr>\n",
       "      <th>2</th>\n",
       "      <td>2453156.5</td>\n",
       "      <td>152</td>\n",
       "      <td>5.0</td>\n",
       "      <td>0.10</td>\n",
       "      <td>38.984167</td>\n",
       "      <td>-120.735556</td>\n",
       "      <td>1</td>\n",
       "      <td>0</td>\n",
       "      <td>0</td>\n",
       "      <td>0</td>\n",
       "      <td>...</td>\n",
       "      <td>0</td>\n",
       "      <td>0</td>\n",
       "      <td>0</td>\n",
       "      <td>0</td>\n",
       "      <td>0</td>\n",
       "      <td>0</td>\n",
       "      <td>0</td>\n",
       "      <td>0</td>\n",
       "      <td>0</td>\n",
       "      <td>0</td>\n",
       "    </tr>\n",
       "    <tr>\n",
       "      <th>3</th>\n",
       "      <td>2453184.5</td>\n",
       "      <td>180</td>\n",
       "      <td>1.0</td>\n",
       "      <td>0.10</td>\n",
       "      <td>38.559167</td>\n",
       "      <td>-119.913333</td>\n",
       "      <td>1</td>\n",
       "      <td>0</td>\n",
       "      <td>0</td>\n",
       "      <td>0</td>\n",
       "      <td>...</td>\n",
       "      <td>0</td>\n",
       "      <td>0</td>\n",
       "      <td>0</td>\n",
       "      <td>0</td>\n",
       "      <td>0</td>\n",
       "      <td>0</td>\n",
       "      <td>0</td>\n",
       "      <td>0</td>\n",
       "      <td>0</td>\n",
       "      <td>0</td>\n",
       "    </tr>\n",
       "    <tr>\n",
       "      <th>4</th>\n",
       "      <td>2453184.5</td>\n",
       "      <td>180</td>\n",
       "      <td>1.0</td>\n",
       "      <td>0.10</td>\n",
       "      <td>38.559167</td>\n",
       "      <td>-119.933056</td>\n",
       "      <td>1</td>\n",
       "      <td>0</td>\n",
       "      <td>0</td>\n",
       "      <td>0</td>\n",
       "      <td>...</td>\n",
       "      <td>0</td>\n",
       "      <td>0</td>\n",
       "      <td>0</td>\n",
       "      <td>0</td>\n",
       "      <td>0</td>\n",
       "      <td>0</td>\n",
       "      <td>0</td>\n",
       "      <td>0</td>\n",
       "      <td>0</td>\n",
       "      <td>0</td>\n",
       "    </tr>\n",
       "  </tbody>\n",
       "</table>\n",
       "<p>5 rows × 54 columns</p>\n",
       "</div>"
      ],
      "text/plain": [
       "   DISCOVERY_DATE  DISCOVERY_DOY  STAT_CAUSE_CODE  FIRE_SIZE   LATITUDE  \\\n",
       "0       2453403.5             33              9.0       0.10  40.036944   \n",
       "1       2453137.5            133              1.0       0.25  38.933056   \n",
       "2       2453156.5            152              5.0       0.10  38.984167   \n",
       "3       2453184.5            180              1.0       0.10  38.559167   \n",
       "4       2453184.5            180              1.0       0.10  38.559167   \n",
       "\n",
       "    LONGITUDE  FIRE_SIZE_CLASS_A  FIRE_SIZE_CLASS_B  FIRE_SIZE_CLASS_C  \\\n",
       "0 -121.005833                  1                  0                  0   \n",
       "1 -120.404444                  1                  0                  0   \n",
       "2 -120.735556                  1                  0                  0   \n",
       "3 -119.913333                  1                  0                  0   \n",
       "4 -119.933056                  1                  0                  0   \n",
       "\n",
       "   FIRE_SIZE_CLASS_D  ...  2006  2007  2008  2009  2010  2011  2012  2013  \\\n",
       "0                  0  ...     0     0     0     0     0     0     0     0   \n",
       "1                  0  ...     0     0     0     0     0     0     0     0   \n",
       "2                  0  ...     0     0     0     0     0     0     0     0   \n",
       "3                  0  ...     0     0     0     0     0     0     0     0   \n",
       "4                  0  ...     0     0     0     0     0     0     0     0   \n",
       "\n",
       "   2014  2015  \n",
       "0     0     0  \n",
       "1     0     0  \n",
       "2     0     0  \n",
       "3     0     0  \n",
       "4     0     0  \n",
       "\n",
       "[5 rows x 54 columns]"
      ]
     },
     "execution_count": 37,
     "metadata": {},
     "output_type": "execute_result"
    }
   ],
   "source": [
    "df_CA_dummy.head()"
   ]
  },
  {
   "cell_type": "code",
   "execution_count": 38,
   "metadata": {},
   "outputs": [
    {
     "data": {
      "text/plain": [
       "{'Miscellaneous': 9.0,\n",
       " 'Equipment Use': 2.0,\n",
       " 'Lightning': 1.0,\n",
       " 'Arson': 7.0,\n",
       " 'Debris Burning': 5.0,\n",
       " 'Missing/Undefined': 13.0,\n",
       " 'Campfire': 4.0,\n",
       " 'Children': 8.0,\n",
       " 'Smoking': 3.0,\n",
       " 'Railroad': 6.0,\n",
       " 'Powerline': 11.0,\n",
       " 'Fireworks': 10.0,\n",
       " 'Structure': 12.0}"
      ]
     },
     "execution_count": 38,
     "metadata": {},
     "output_type": "execute_result"
    }
   ],
   "source": [
    "stat_cause_dict"
   ]
  },
  {
   "cell_type": "code",
   "execution_count": 39,
   "metadata": {},
   "outputs": [],
   "source": [
    "X = df_CA_dummy.drop(['STAT_CAUSE_CODE'], axis=1)"
   ]
  },
  {
   "cell_type": "code",
   "execution_count": 40,
   "metadata": {},
   "outputs": [],
   "source": [
    "# for one vs the rest binary classification\n",
    "firecode = 9\n",
    "y = ((df_CA_dummy['STAT_CAUSE_CODE'] == firecode) * 1)"
   ]
  },
  {
   "cell_type": "code",
   "execution_count": 41,
   "metadata": {},
   "outputs": [
    {
     "data": {
      "text/plain": [
       "<matplotlib.axes._subplots.AxesSubplot at 0x1a28ef62d0>"
      ]
     },
     "execution_count": 41,
     "metadata": {},
     "output_type": "execute_result"
    },
    {
     "data": {
      "image/png": "[encoded data removed]",
      "text/plain": [
       "<Figure size 432x288 with 1 Axes>"
      ]
     },
     "metadata": {
      "needs_background": "light"
     },
     "output_type": "display_data"
    }
   ],
   "source": [
    "# check for data inbalance\n",
    "sns.countplot(y)"
   ]
  },
  {
   "cell_type": "code",
   "execution_count": 42,
   "metadata": {},
   "outputs": [],
   "source": [
    "# train test split\n",
    "X_train, X_test, y_train, y_test = train_test_split(\n",
    "    X, y, test_size=0.30, random_state=42)"
   ]
  },
  {
   "cell_type": "code",
   "execution_count": 43,
   "metadata": {},
   "outputs": [],
   "source": [
    "scaler = MinMaxScaler()\n",
    "scaler.fit(X_train)\n",
    "X_train = pd.DataFrame(scaler.transform(X_train))\n",
    "X_test = pd.DataFrame(scaler.transform(X_test))"
   ]
  },
  {
   "cell_type": "code",
   "execution_count": 44,
   "metadata": {},
   "outputs": [],
   "source": [
    "y_train.reset_index(drop=True, inplace=True)"
   ]
  },
  {
   "cell_type": "code",
   "execution_count": 45,
   "metadata": {},
   "outputs": [
    {
     "data": {
      "text/plain": [
       "1    96263\n",
       "0    96263\n",
       "Name: y, dtype: int64"
      ]
     },
     "execution_count": 45,
     "metadata": {},
     "output_type": "execute_result"
    }
   ],
   "source": [
    "train = pd.concat([X_train, y_train], axis=1)\n",
    "train.rename(columns={'STAT_CAUSE_CODE': 'y'}, inplace=True)\n",
    "\n",
    "# separate the classes\n",
    "label_1 = train[train['y'] == 1]\n",
    "label_0 = train[train['y'] == 0]\n",
    "\n",
    "# upsample the label_1\n",
    "label_1_upsampled = resample(\n",
    "    label_1, replace=True, n_samples=len(label_0), random_state=42)\n",
    "\n",
    "# combine the balanced train data and shuffle the data\n",
    "train_upsampled = pd.concat([label_1_upsampled, label_0], axis=0)\\\n",
    "    .sample(frac=1).reset_index(drop=True)\n",
    "\n",
    "# check the label counts\n",
    "train_upsampled['y'].value_counts()"
   ]
  },
  {
   "cell_type": "code",
   "execution_count": 46,
   "metadata": {},
   "outputs": [],
   "source": [
    "# training data after balancing\n",
    "X_train = train_upsampled.drop('y', axis=1)\n",
    "y_train = train_upsampled['y']"
   ]
  },
  {
   "cell_type": "code",
   "execution_count": 47,
   "metadata": {},
   "outputs": [
    {
     "data": {
      "text/plain": [
       "DecisionTreeClassifier(ccp_alpha=0.0, class_weight=None, criterion='gini',\n",
       "                       max_depth=None, max_features=None, max_leaf_nodes=12,\n",
       "                       min_impurity_decrease=0.0, min_impurity_split=None,\n",
       "                       min_samples_leaf=1, min_samples_split=2,\n",
       "                       min_weight_fraction_leaf=0.0, presort='deprecated',\n",
       "                       random_state=None, splitter='best')"
      ]
     },
     "execution_count": 47,
     "metadata": {},
     "output_type": "execute_result"
    }
   ],
   "source": [
    "d_classifier = DecisionTreeClassifier(max_leaf_nodes=12)\n",
    "d_classifier.fit(X_train, y_train)"
   ]
  },
  {
   "cell_type": "code",
   "execution_count": 48,
   "metadata": {},
   "outputs": [
    {
     "name": "stdout",
     "output_type": "stream",
     "text": [
      "accuracy = 0.6239866350127495\n"
     ]
    }
   ],
   "source": [
    "# Testing\n",
    "preds = d_classifier.predict(X_test)\n",
    "print('accuracy =', accuracy_score(y_true=y_test, y_pred=preds))"
   ]
  }
 ],
 "metadata": {
  "kernelspec": {
   "display_name": "Python 3",
   "language": "python",
   "name": "python3"
  },
  "language_info": {
   "codemirror_mode": {
    "name": "ipython",
    "version": 3
   },
   "file_extension": ".py",
   "mimetype": "text/x-python",
   "name": "python",
   "nbconvert_exporter": "python",
   "pygments_lexer": "ipython3",
   "version": "3.7.4"
  },
  "toc": {
   "base_numbering": 1,
   "nav_menu": {},
   "number_sections": true,
   "sideBar": true,
   "skip_h1_title": false,
   "title_cell": "Table of Contents",
   "title_sidebar": "Contents",
   "toc_cell": false,
   "toc_position": {},
   "toc_section_display": true,
   "toc_window_display": false
  },
  "varInspector": {
   "cols": {
    "lenName": 16,
    "lenType": 16,
    "lenVar": 40
   },
   "kernels_config": {
    "python": {
     "delete_cmd_postfix": "",
     "delete_cmd_prefix": "del ",
     "library": "var_list.py",
     "varRefreshCmd": "print(var_dic_list())"
    },
    "r": {
     "delete_cmd_postfix": ") ",
     "delete_cmd_prefix": "rm(",
     "library": "var_list.r",
     "varRefreshCmd": "cat(var_dic_list()) "
    }
   },
   "types_to_exclude": [
    "module",
    "function",
    "builtin_function_or_method",
    "instance",
    "_Feature"
   ],
   "window_display": false
  }
 },
 "nbformat": 4,
 "nbformat_minor": 2
}
