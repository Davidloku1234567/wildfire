{
 "cells": [
  {
   "cell_type": "code",
   "execution_count": 1,
   "metadata": {
    "ExecuteTime": {
     "end_time": "2019-11-18T05:35:20.699801Z",
     "start_time": "2019-11-18T05:35:20.690231Z"
    }
   },
   "outputs": [],
   "source": [
    "import sqlite3\n",
    "import pandas as pd \n",
    "import numpy as np\n",
    "import matplotlib.pyplot as plt\n",
    "from sklearn.model_selection import train_test_split\n",
    "from sklearn.metrics import accuracy_score\n",
    "from sklearn.tree import DecisionTreeClassifier\n",
    "from sklearn.metrics import mean_squared_error\n",
    "from itertools import cycle, islice\n",
    "from math import sqrt\n",
    "%matplotlib inline"
   ]
  },
  {
   "cell_type": "code",
   "execution_count": 2,
   "metadata": {},
   "outputs": [],
   "source": [
    "# Create connection\n",
    "cnx = sqlite3.connect('wfdata.sqlite')"
   ]
  },
  {
   "cell_type": "code",
   "execution_count": 3,
   "metadata": {
    "ExecuteTime": {
     "end_time": "2019-11-18T05:35:20.725375Z",
     "start_time": "2019-11-18T05:35:20.702271Z"
    }
   },
   "outputs": [
    {
     "name": "stdout",
     "output_type": "stream",
     "text": [
      "spatial_ref_sys\n",
      "spatialite_history\n",
      "sqlite_sequence\n",
      "geometry_columns\n",
      "spatial_ref_sys_aux\n",
      "views_geometry_columns\n",
      "virts_geometry_columns\n",
      "geometry_columns_statistics\n",
      "views_geometry_columns_statistics\n",
      "virts_geometry_columns_statistics\n",
      "geometry_columns_field_infos\n",
      "views_geometry_columns_field_infos\n",
      "virts_geometry_columns_field_infos\n",
      "geometry_columns_time\n",
      "geometry_columns_auth\n",
      "views_geometry_columns_auth\n",
      "virts_geometry_columns_auth\n",
      "sql_statements_log\n",
      "SpatialIndex\n",
      "ElementaryGeometries\n",
      "KNN\n",
      "Fires\n",
      "idx_Fires_Shape\n",
      "idx_Fires_Shape_node\n",
      "idx_Fires_Shape_rowid\n",
      "idx_Fires_Shape_parent\n",
      "NWCG_UnitIDActive_20170109\n"
     ]
    }
   ],
   "source": [
    "# Tables\n",
    "res = cnx.execute(\"SELECT name FROM sqlite_master WHERE type='table';\")\n",
    "for name in res:\n",
    "    print (name[0])"
   ]
  },
  {
   "cell_type": "code",
   "execution_count": 4,
   "metadata": {},
   "outputs": [],
   "source": [
    "#df_t = pd.read_sql_query(\"SELECT * FROM Fires\",cnx)"
   ]
  },
  {
   "cell_type": "code",
   "execution_count": 5,
   "metadata": {},
   "outputs": [],
   "source": [
    "#df_t.shape"
   ]
  },
  {
   "cell_type": "code",
   "execution_count": 6,
   "metadata": {
    "ExecuteTime": {
     "end_time": "2019-11-18T05:36:18.752312Z",
     "start_time": "2019-11-18T05:35:20.727607Z"
    },
    "scrolled": true
   },
   "outputs": [],
   "source": [
    "df = pd.read_sql_query(\"SELECT \\\n",
    "                            OBJECTID, FIRE_NAME,FIRE_YEAR, DISCOVERY_DATE, DISCOVERY_DOY, DISCOVERY_TIME, STAT_CAUSE_CODE,\\\n",
    "                            STAT_CAUSE_DESCR, CONT_DATE, CONT_DOY, CONT_TIME, FIRE_SIZE, FIRE_SIZE_CLASS, LATITUDE,\\\n",
    "                            LONGITUDE, OWNER_CODE, OWNER_DESCR, STATE, COUNTY, FIPS_NAME\\\n",
    "                                FROM Fires\", cnx)"
   ]
  },
  {
   "cell_type": "code",
   "execution_count": 7,
   "metadata": {
    "ExecuteTime": {
     "end_time": "2019-11-18T05:36:19.447987Z",
     "start_time": "2019-11-18T05:36:18.905704Z"
    },
    "scrolled": true
   },
   "outputs": [
    {
     "data": {
      "text/html": [
       "<div>\n",
       "<style scoped>\n",
       "    .dataframe tbody tr th:only-of-type {\n",
       "        vertical-align: middle;\n",
       "    }\n",
       "\n",
       "    .dataframe tbody tr th {\n",
       "        vertical-align: top;\n",
       "    }\n",
       "\n",
       "    .dataframe thead th {\n",
       "        text-align: right;\n",
       "    }\n",
       "</style>\n",
       "<table border=\"1\" class=\"dataframe\">\n",
       "  <thead>\n",
       "    <tr style=\"text-align: right;\">\n",
       "      <th></th>\n",
       "      <th>OBJECTID</th>\n",
       "      <th>FIRE_NAME</th>\n",
       "      <th>FIRE_YEAR</th>\n",
       "      <th>DISCOVERY_DATE</th>\n",
       "      <th>DISCOVERY_DOY</th>\n",
       "      <th>DISCOVERY_TIME</th>\n",
       "      <th>STAT_CAUSE_CODE</th>\n",
       "      <th>STAT_CAUSE_DESCR</th>\n",
       "      <th>CONT_DATE</th>\n",
       "      <th>CONT_DOY</th>\n",
       "      <th>CONT_TIME</th>\n",
       "      <th>FIRE_SIZE</th>\n",
       "      <th>FIRE_SIZE_CLASS</th>\n",
       "      <th>LATITUDE</th>\n",
       "      <th>LONGITUDE</th>\n",
       "      <th>OWNER_CODE</th>\n",
       "      <th>OWNER_DESCR</th>\n",
       "      <th>STATE</th>\n",
       "      <th>COUNTY</th>\n",
       "      <th>FIPS_NAME</th>\n",
       "    </tr>\n",
       "  </thead>\n",
       "  <tbody>\n",
       "    <tr>\n",
       "      <th>0</th>\n",
       "      <td>1</td>\n",
       "      <td>FOUNTAIN</td>\n",
       "      <td>2005</td>\n",
       "      <td>2453403.5</td>\n",
       "      <td>33</td>\n",
       "      <td>1300</td>\n",
       "      <td>9.0</td>\n",
       "      <td>Miscellaneous</td>\n",
       "      <td>2453403.5</td>\n",
       "      <td>33.0</td>\n",
       "      <td>1730</td>\n",
       "      <td>0.10</td>\n",
       "      <td>A</td>\n",
       "      <td>40.036944</td>\n",
       "      <td>-121.005833</td>\n",
       "      <td>5.0</td>\n",
       "      <td>USFS</td>\n",
       "      <td>CA</td>\n",
       "      <td>63</td>\n",
       "      <td>Plumas</td>\n",
       "    </tr>\n",
       "    <tr>\n",
       "      <th>1</th>\n",
       "      <td>2</td>\n",
       "      <td>PIGEON</td>\n",
       "      <td>2004</td>\n",
       "      <td>2453137.5</td>\n",
       "      <td>133</td>\n",
       "      <td>0845</td>\n",
       "      <td>1.0</td>\n",
       "      <td>Lightning</td>\n",
       "      <td>2453137.5</td>\n",
       "      <td>133.0</td>\n",
       "      <td>1530</td>\n",
       "      <td>0.25</td>\n",
       "      <td>A</td>\n",
       "      <td>38.933056</td>\n",
       "      <td>-120.404444</td>\n",
       "      <td>5.0</td>\n",
       "      <td>USFS</td>\n",
       "      <td>CA</td>\n",
       "      <td>61</td>\n",
       "      <td>Placer</td>\n",
       "    </tr>\n",
       "    <tr>\n",
       "      <th>2</th>\n",
       "      <td>3</td>\n",
       "      <td>SLACK</td>\n",
       "      <td>2004</td>\n",
       "      <td>2453156.5</td>\n",
       "      <td>152</td>\n",
       "      <td>1921</td>\n",
       "      <td>5.0</td>\n",
       "      <td>Debris Burning</td>\n",
       "      <td>2453156.5</td>\n",
       "      <td>152.0</td>\n",
       "      <td>2024</td>\n",
       "      <td>0.10</td>\n",
       "      <td>A</td>\n",
       "      <td>38.984167</td>\n",
       "      <td>-120.735556</td>\n",
       "      <td>13.0</td>\n",
       "      <td>STATE OR PRIVATE</td>\n",
       "      <td>CA</td>\n",
       "      <td>17</td>\n",
       "      <td>El Dorado</td>\n",
       "    </tr>\n",
       "    <tr>\n",
       "      <th>3</th>\n",
       "      <td>4</td>\n",
       "      <td>DEER</td>\n",
       "      <td>2004</td>\n",
       "      <td>2453184.5</td>\n",
       "      <td>180</td>\n",
       "      <td>1600</td>\n",
       "      <td>1.0</td>\n",
       "      <td>Lightning</td>\n",
       "      <td>2453189.5</td>\n",
       "      <td>185.0</td>\n",
       "      <td>1400</td>\n",
       "      <td>0.10</td>\n",
       "      <td>A</td>\n",
       "      <td>38.559167</td>\n",
       "      <td>-119.913333</td>\n",
       "      <td>5.0</td>\n",
       "      <td>USFS</td>\n",
       "      <td>CA</td>\n",
       "      <td>3</td>\n",
       "      <td>Alpine</td>\n",
       "    </tr>\n",
       "    <tr>\n",
       "      <th>4</th>\n",
       "      <td>5</td>\n",
       "      <td>STEVENOT</td>\n",
       "      <td>2004</td>\n",
       "      <td>2453184.5</td>\n",
       "      <td>180</td>\n",
       "      <td>1600</td>\n",
       "      <td>1.0</td>\n",
       "      <td>Lightning</td>\n",
       "      <td>2453189.5</td>\n",
       "      <td>185.0</td>\n",
       "      <td>1200</td>\n",
       "      <td>0.10</td>\n",
       "      <td>A</td>\n",
       "      <td>38.559167</td>\n",
       "      <td>-119.933056</td>\n",
       "      <td>5.0</td>\n",
       "      <td>USFS</td>\n",
       "      <td>CA</td>\n",
       "      <td>3</td>\n",
       "      <td>Alpine</td>\n",
       "    </tr>\n",
       "  </tbody>\n",
       "</table>\n",
       "</div>"
      ],
      "text/plain": [
       "   OBJECTID FIRE_NAME  FIRE_YEAR  DISCOVERY_DATE  DISCOVERY_DOY  \\\n",
       "0         1  FOUNTAIN       2005       2453403.5             33   \n",
       "1         2    PIGEON       2004       2453137.5            133   \n",
       "2         3     SLACK       2004       2453156.5            152   \n",
       "3         4      DEER       2004       2453184.5            180   \n",
       "4         5  STEVENOT       2004       2453184.5            180   \n",
       "\n",
       "  DISCOVERY_TIME  STAT_CAUSE_CODE STAT_CAUSE_DESCR  CONT_DATE  CONT_DOY  \\\n",
       "0           1300              9.0    Miscellaneous  2453403.5      33.0   \n",
       "1           0845              1.0        Lightning  2453137.5     133.0   \n",
       "2           1921              5.0   Debris Burning  2453156.5     152.0   \n",
       "3           1600              1.0        Lightning  2453189.5     185.0   \n",
       "4           1600              1.0        Lightning  2453189.5     185.0   \n",
       "\n",
       "  CONT_TIME  FIRE_SIZE FIRE_SIZE_CLASS   LATITUDE   LONGITUDE  OWNER_CODE  \\\n",
       "0      1730       0.10               A  40.036944 -121.005833         5.0   \n",
       "1      1530       0.25               A  38.933056 -120.404444         5.0   \n",
       "2      2024       0.10               A  38.984167 -120.735556        13.0   \n",
       "3      1400       0.10               A  38.559167 -119.913333         5.0   \n",
       "4      1200       0.10               A  38.559167 -119.933056         5.0   \n",
       "\n",
       "        OWNER_DESCR STATE COUNTY  FIPS_NAME  \n",
       "0              USFS    CA     63     Plumas  \n",
       "1              USFS    CA     61     Placer  \n",
       "2  STATE OR PRIVATE    CA     17  El Dorado  \n",
       "3              USFS    CA      3     Alpine  \n",
       "4              USFS    CA      3     Alpine  "
      ]
     },
     "execution_count": 7,
     "metadata": {},
     "output_type": "execute_result"
    }
   ],
   "source": [
    "df.head()"
   ]
  },
  {
   "cell_type": "code",
   "execution_count": 8,
   "metadata": {
    "ExecuteTime": {
     "end_time": "2019-11-18T05:36:19.470668Z",
     "start_time": "2019-11-18T05:36:19.455172Z"
    }
   },
   "outputs": [
    {
     "data": {
      "text/plain": [
       "(1880465, 20)"
      ]
     },
     "execution_count": 8,
     "metadata": {},
     "output_type": "execute_result"
    }
   ],
   "source": [
    "df.shape"
   ]
  },
  {
   "cell_type": "code",
   "execution_count": 9,
   "metadata": {
    "ExecuteTime": {
     "end_time": "2019-11-18T05:36:19.545747Z",
     "start_time": "2019-11-18T05:36:19.476191Z"
    }
   },
   "outputs": [],
   "source": [
    "# number of fires for a given year\n",
    "numFire_year = df['FIRE_YEAR'].value_counts().sort_index()"
   ]
  },
  {
   "cell_type": "code",
   "execution_count": 10,
   "metadata": {
    "ExecuteTime": {
     "end_time": "2019-11-18T05:36:20.578663Z",
     "start_time": "2019-11-18T05:36:19.595065Z"
    }
   },
   "outputs": [
    {
     "data": {
      "image/png": "[encoded data removed]",
      "text/plain": [
       "<Figure size 720x504 with 1 Axes>"
      ]
     },
     "metadata": {
      "needs_background": "light"
     },
     "output_type": "display_data"
    }
   ],
   "source": [
    "# the whole country\n",
    "numFire_year.plot(kind = 'bar', grid=1, figsize =(10,7))\n",
    "plt.title('US Wildfire from 1992 to 2015')\n",
    "plt.show()\n"
   ]
  },
  {
   "cell_type": "code",
   "execution_count": 11,
   "metadata": {
    "ExecuteTime": {
     "end_time": "2019-11-18T05:36:20.799656Z",
     "start_time": "2019-11-18T05:36:20.758205Z"
    }
   },
   "outputs": [
    {
     "data": {
      "text/plain": [
       "count        24.000000\n",
       "mean      78352.708333\n",
       "std       12759.039409\n",
       "min       61450.000000\n",
       "25%       68342.750000\n",
       "50%       75615.000000\n",
       "75%       87091.250000\n",
       "max      114004.000000\n",
       "Name: FIRE_YEAR, dtype: float64"
      ]
     },
     "execution_count": 11,
     "metadata": {},
     "output_type": "execute_result"
    }
   ],
   "source": [
    "numFire_year.describe()"
   ]
  },
  {
   "cell_type": "code",
   "execution_count": 12,
   "metadata": {},
   "outputs": [],
   "source": [
    "# data for wildfire in California\n",
    "df_CA = df[df['STATE']=='CA']"
   ]
  },
  {
   "cell_type": "code",
   "execution_count": 13,
   "metadata": {},
   "outputs": [
    {
     "data": {
      "text/html": [
       "<div>\n",
       "<style scoped>\n",
       "    .dataframe tbody tr th:only-of-type {\n",
       "        vertical-align: middle;\n",
       "    }\n",
       "\n",
       "    .dataframe tbody tr th {\n",
       "        vertical-align: top;\n",
       "    }\n",
       "\n",
       "    .dataframe thead th {\n",
       "        text-align: right;\n",
       "    }\n",
       "</style>\n",
       "<table border=\"1\" class=\"dataframe\">\n",
       "  <thead>\n",
       "    <tr style=\"text-align: right;\">\n",
       "      <th></th>\n",
       "      <th>OBJECTID</th>\n",
       "      <th>FIRE_NAME</th>\n",
       "      <th>FIRE_YEAR</th>\n",
       "      <th>DISCOVERY_DATE</th>\n",
       "      <th>DISCOVERY_DOY</th>\n",
       "      <th>DISCOVERY_TIME</th>\n",
       "      <th>STAT_CAUSE_CODE</th>\n",
       "      <th>STAT_CAUSE_DESCR</th>\n",
       "      <th>CONT_DATE</th>\n",
       "      <th>CONT_DOY</th>\n",
       "      <th>CONT_TIME</th>\n",
       "      <th>FIRE_SIZE</th>\n",
       "      <th>FIRE_SIZE_CLASS</th>\n",
       "      <th>LATITUDE</th>\n",
       "      <th>LONGITUDE</th>\n",
       "      <th>OWNER_CODE</th>\n",
       "      <th>OWNER_DESCR</th>\n",
       "      <th>STATE</th>\n",
       "      <th>COUNTY</th>\n",
       "      <th>FIPS_NAME</th>\n",
       "    </tr>\n",
       "  </thead>\n",
       "  <tbody>\n",
       "    <tr>\n",
       "      <th>0</th>\n",
       "      <td>1</td>\n",
       "      <td>FOUNTAIN</td>\n",
       "      <td>2005</td>\n",
       "      <td>2453403.5</td>\n",
       "      <td>33</td>\n",
       "      <td>1300</td>\n",
       "      <td>9.0</td>\n",
       "      <td>Miscellaneous</td>\n",
       "      <td>2453403.5</td>\n",
       "      <td>33.0</td>\n",
       "      <td>1730</td>\n",
       "      <td>0.10</td>\n",
       "      <td>A</td>\n",
       "      <td>40.036944</td>\n",
       "      <td>-121.005833</td>\n",
       "      <td>5.0</td>\n",
       "      <td>USFS</td>\n",
       "      <td>CA</td>\n",
       "      <td>63</td>\n",
       "      <td>Plumas</td>\n",
       "    </tr>\n",
       "    <tr>\n",
       "      <th>1</th>\n",
       "      <td>2</td>\n",
       "      <td>PIGEON</td>\n",
       "      <td>2004</td>\n",
       "      <td>2453137.5</td>\n",
       "      <td>133</td>\n",
       "      <td>0845</td>\n",
       "      <td>1.0</td>\n",
       "      <td>Lightning</td>\n",
       "      <td>2453137.5</td>\n",
       "      <td>133.0</td>\n",
       "      <td>1530</td>\n",
       "      <td>0.25</td>\n",
       "      <td>A</td>\n",
       "      <td>38.933056</td>\n",
       "      <td>-120.404444</td>\n",
       "      <td>5.0</td>\n",
       "      <td>USFS</td>\n",
       "      <td>CA</td>\n",
       "      <td>61</td>\n",
       "      <td>Placer</td>\n",
       "    </tr>\n",
       "    <tr>\n",
       "      <th>2</th>\n",
       "      <td>3</td>\n",
       "      <td>SLACK</td>\n",
       "      <td>2004</td>\n",
       "      <td>2453156.5</td>\n",
       "      <td>152</td>\n",
       "      <td>1921</td>\n",
       "      <td>5.0</td>\n",
       "      <td>Debris Burning</td>\n",
       "      <td>2453156.5</td>\n",
       "      <td>152.0</td>\n",
       "      <td>2024</td>\n",
       "      <td>0.10</td>\n",
       "      <td>A</td>\n",
       "      <td>38.984167</td>\n",
       "      <td>-120.735556</td>\n",
       "      <td>13.0</td>\n",
       "      <td>STATE OR PRIVATE</td>\n",
       "      <td>CA</td>\n",
       "      <td>17</td>\n",
       "      <td>El Dorado</td>\n",
       "    </tr>\n",
       "    <tr>\n",
       "      <th>3</th>\n",
       "      <td>4</td>\n",
       "      <td>DEER</td>\n",
       "      <td>2004</td>\n",
       "      <td>2453184.5</td>\n",
       "      <td>180</td>\n",
       "      <td>1600</td>\n",
       "      <td>1.0</td>\n",
       "      <td>Lightning</td>\n",
       "      <td>2453189.5</td>\n",
       "      <td>185.0</td>\n",
       "      <td>1400</td>\n",
       "      <td>0.10</td>\n",
       "      <td>A</td>\n",
       "      <td>38.559167</td>\n",
       "      <td>-119.913333</td>\n",
       "      <td>5.0</td>\n",
       "      <td>USFS</td>\n",
       "      <td>CA</td>\n",
       "      <td>3</td>\n",
       "      <td>Alpine</td>\n",
       "    </tr>\n",
       "    <tr>\n",
       "      <th>4</th>\n",
       "      <td>5</td>\n",
       "      <td>STEVENOT</td>\n",
       "      <td>2004</td>\n",
       "      <td>2453184.5</td>\n",
       "      <td>180</td>\n",
       "      <td>1600</td>\n",
       "      <td>1.0</td>\n",
       "      <td>Lightning</td>\n",
       "      <td>2453189.5</td>\n",
       "      <td>185.0</td>\n",
       "      <td>1200</td>\n",
       "      <td>0.10</td>\n",
       "      <td>A</td>\n",
       "      <td>38.559167</td>\n",
       "      <td>-119.933056</td>\n",
       "      <td>5.0</td>\n",
       "      <td>USFS</td>\n",
       "      <td>CA</td>\n",
       "      <td>3</td>\n",
       "      <td>Alpine</td>\n",
       "    </tr>\n",
       "  </tbody>\n",
       "</table>\n",
       "</div>"
      ],
      "text/plain": [
       "   OBJECTID FIRE_NAME  FIRE_YEAR  DISCOVERY_DATE  DISCOVERY_DOY  \\\n",
       "0         1  FOUNTAIN       2005       2453403.5             33   \n",
       "1         2    PIGEON       2004       2453137.5            133   \n",
       "2         3     SLACK       2004       2453156.5            152   \n",
       "3         4      DEER       2004       2453184.5            180   \n",
       "4         5  STEVENOT       2004       2453184.5            180   \n",
       "\n",
       "  DISCOVERY_TIME  STAT_CAUSE_CODE STAT_CAUSE_DESCR  CONT_DATE  CONT_DOY  \\\n",
       "0           1300              9.0    Miscellaneous  2453403.5      33.0   \n",
       "1           0845              1.0        Lightning  2453137.5     133.0   \n",
       "2           1921              5.0   Debris Burning  2453156.5     152.0   \n",
       "3           1600              1.0        Lightning  2453189.5     185.0   \n",
       "4           1600              1.0        Lightning  2453189.5     185.0   \n",
       "\n",
       "  CONT_TIME  FIRE_SIZE FIRE_SIZE_CLASS   LATITUDE   LONGITUDE  OWNER_CODE  \\\n",
       "0      1730       0.10               A  40.036944 -121.005833         5.0   \n",
       "1      1530       0.25               A  38.933056 -120.404444         5.0   \n",
       "2      2024       0.10               A  38.984167 -120.735556        13.0   \n",
       "3      1400       0.10               A  38.559167 -119.913333         5.0   \n",
       "4      1200       0.10               A  38.559167 -119.933056         5.0   \n",
       "\n",
       "        OWNER_DESCR STATE COUNTY  FIPS_NAME  \n",
       "0              USFS    CA     63     Plumas  \n",
       "1              USFS    CA     61     Placer  \n",
       "2  STATE OR PRIVATE    CA     17  El Dorado  \n",
       "3              USFS    CA      3     Alpine  \n",
       "4              USFS    CA      3     Alpine  "
      ]
     },
     "execution_count": 13,
     "metadata": {},
     "output_type": "execute_result"
    }
   ],
   "source": [
    "df_CA.head()"
   ]
  },
  {
   "cell_type": "code",
   "execution_count": 14,
   "metadata": {},
   "outputs": [],
   "source": [
    "numFire_year_CA = df_CA['FIRE_YEAR'].value_counts().sort_index()"
   ]
  },
  {
   "cell_type": "code",
   "execution_count": 15,
   "metadata": {},
   "outputs": [
    {
     "data": {
      "text/plain": [
       "1992    10833\n",
       "1993     8270\n",
       "1994     8654\n",
       "1995     7381\n",
       "1996     9173\n",
       "1997     7930\n",
       "1998     6864\n",
       "1999     8910\n",
       "2000     6977\n",
       "2001     8182\n",
       "2002     7133\n",
       "2003     7913\n",
       "2004     7418\n",
       "2005     6678\n",
       "2006     8271\n",
       "2007    10151\n",
       "2008     7744\n",
       "2009     6940\n",
       "2010     5776\n",
       "2011     8562\n",
       "2012     7208\n",
       "2013     8723\n",
       "2014     6494\n",
       "2015     7365\n",
       "Name: FIRE_YEAR, dtype: int64"
      ]
     },
     "execution_count": 15,
     "metadata": {},
     "output_type": "execute_result"
    }
   ],
   "source": [
    "numFire_year_CA"
   ]
  },
  {
   "cell_type": "code",
   "execution_count": 16,
   "metadata": {},
   "outputs": [
    {
     "data": {
      "text/plain": [
       "count       24.000000\n",
       "mean      7897.916667\n",
       "std       1162.025178\n",
       "min       5776.000000\n",
       "25%       7094.000000\n",
       "50%       7828.500000\n",
       "75%       8585.000000\n",
       "max      10833.000000\n",
       "Name: FIRE_YEAR, dtype: float64"
      ]
     },
     "execution_count": 16,
     "metadata": {},
     "output_type": "execute_result"
    }
   ],
   "source": [
    "numFire_year_CA.describe()"
   ]
  },
  {
   "cell_type": "code",
   "execution_count": 17,
   "metadata": {
    "scrolled": false
   },
   "outputs": [
    {
     "data": {
      "image/png": "[encoded data removed]",
      "text/plain": [
       "<Figure size 720x504 with 1 Axes>"
      ]
     },
     "metadata": {
      "needs_background": "light"
     },
     "output_type": "display_data"
    }
   ],
   "source": [
    "# CA\n",
    "numFire_year_CA.plot(kind = 'bar', grid =1, figsize =(10,7))\n",
    "plt.title('US Wildfire from 1992 to 2015 CA', fontweight ='bold')\n",
    "plt.ylabel('Number of fires', fontweight ='bold')\n",
    "plt.show()\n"
   ]
  },
  {
   "cell_type": "code",
   "execution_count": 18,
   "metadata": {
    "ExecuteTime": {
     "end_time": "2019-11-18T05:36:21.266692Z",
     "start_time": "2019-11-18T05:36:20.942642Z"
    }
   },
   "outputs": [
    {
     "name": "stdout",
     "output_type": "stream",
     "text": [
      "number of counties in CA = 59\n"
     ]
    }
   ],
   "source": [
    "counties = df_CA['FIPS_NAME'].value_counts().sort_values(ascending = False)\n",
    "print('number of counties in CA =', len(counties))"
   ]
  },
  {
   "cell_type": "code",
   "execution_count": 19,
   "metadata": {
    "ExecuteTime": {
     "end_time": "2019-11-18T05:36:21.279671Z",
     "start_time": "2019-11-18T05:36:21.270021Z"
    }
   },
   "outputs": [
    {
     "data": {
      "text/plain": [
       "count      59.000000\n",
       "mean      952.898305\n",
       "std      1091.072151\n",
       "min         1.000000\n",
       "25%       246.500000\n",
       "50%       591.000000\n",
       "75%      1265.000000\n",
       "max      6925.000000\n",
       "Name: FIPS_NAME, dtype: float64"
      ]
     },
     "execution_count": 19,
     "metadata": {},
     "output_type": "execute_result"
    }
   ],
   "source": [
    "counties.describe()"
   ]
  },
  {
   "cell_type": "code",
   "execution_count": 20,
   "metadata": {
    "ExecuteTime": {
     "end_time": "2019-11-18T05:36:21.291564Z",
     "start_time": "2019-11-18T05:36:21.281381Z"
    }
   },
   "outputs": [
    {
     "data": {
      "text/plain": [
       "Riverside         6925\n",
       "Los Angeles       2703\n",
       "El Dorado         2676\n",
       "San Bernardino    2642\n",
       "San Diego         2443\n",
       "Fresno            2183\n",
       "Siskiyou          2156\n",
       "Shasta            2118\n",
       "Butte             1768\n",
       "Kern              1737\n",
       "Name: FIPS_NAME, dtype: int64"
      ]
     },
     "execution_count": 20,
     "metadata": {},
     "output_type": "execute_result"
    }
   ],
   "source": [
    "#10 most fire-prone counties\n",
    "counties[:10]"
   ]
  },
  {
   "cell_type": "code",
   "execution_count": 21,
   "metadata": {},
   "outputs": [
    {
     "data": {
      "text/plain": [
       "2.561968183499815"
      ]
     },
     "execution_count": 21,
     "metadata": {},
     "output_type": "execute_result"
    }
   ],
   "source": [
    "6925/2703"
   ]
  },
  {
   "cell_type": "code",
   "execution_count": 22,
   "metadata": {
    "ExecuteTime": {
     "end_time": "2019-11-18T05:36:21.306324Z",
     "start_time": "2019-11-18T05:36:21.295457Z"
    },
    "scrolled": true
   },
   "outputs": [
    {
     "data": {
      "text/plain": [
       "San Benito       157\n",
       "Solano           149\n",
       "Ventura          132\n",
       "Kings            119\n",
       "Colusa           111\n",
       "Glenn             94\n",
       "Marin             69\n",
       "Sutter            68\n",
       "San Francisco     15\n",
       "Douglas            1\n",
       "Name: FIPS_NAME, dtype: int64"
      ]
     },
     "execution_count": 22,
     "metadata": {},
     "output_type": "execute_result"
    }
   ],
   "source": [
    "# least fire-prone counties\n",
    "counties[-10:]"
   ]
  },
  {
   "cell_type": "code",
   "execution_count": 23,
   "metadata": {
    "ExecuteTime": {
     "end_time": "2019-11-18T05:36:21.632435Z",
     "start_time": "2019-11-18T05:36:21.309403Z"
    }
   },
   "outputs": [
    {
     "data": {
      "image/png": "[encoded data removed]",
      "text/plain": [
       "<Figure size 648x504 with 1 Axes>"
      ]
     },
     "metadata": {
      "needs_background": "light"
     },
     "output_type": "display_data"
    }
   ],
   "source": [
    "counties[:10].plot(kind = 'bar', grid = 1 , figsize =(9,7), color = 'r')\n",
    "plt.title('10 Most Fire-prone Counties in Califonia',fontweight ='bold')\n",
    "plt.ylabel('Number of wildfires', fontweight ='bold')\n",
    "plt.show()\n"
   ]
  },
  {
   "cell_type": "code",
   "execution_count": 24,
   "metadata": {},
   "outputs": [
    {
     "data": {
      "image/png": "[encoded data removed]",
      "text/plain": [
       "<Figure size 648x504 with 1 Axes>"
      ]
     },
     "metadata": {
      "needs_background": "light"
     },
     "output_type": "display_data"
    }
   ],
   "source": [
    "counties[-10:].plot(kind = 'bar', grid =1, figsize =(9,7), color = 'c')\n",
    "plt.title('10 Least Fire-prone Counties in Califonia', fontweight='bold')\n",
    "plt.ylabel('Number of wildfires', fontweight ='bold')\n",
    "plt.show()"
   ]
  },
  {
   "cell_type": "code",
   "execution_count": 25,
   "metadata": {
    "ExecuteTime": {
     "end_time": "2019-11-18T05:36:21.842134Z",
     "start_time": "2019-11-18T05:36:21.636884Z"
    }
   },
   "outputs": [],
   "source": [
    "fire_size = df_CA['FIRE_SIZE_CLASS'].value_counts().sort_index()"
   ]
  },
  {
   "cell_type": "code",
   "execution_count": 26,
   "metadata": {
    "ExecuteTime": {
     "end_time": "2019-11-18T05:36:21.849844Z",
     "start_time": "2019-11-18T05:36:21.844343Z"
    }
   },
   "outputs": [
    {
     "data": {
      "text/plain": [
       "A    98309\n",
       "B    76942\n",
       "C     9825\n",
       "D     2137\n",
       "E     1187\n",
       "F      756\n",
       "G      394\n",
       "Name: FIRE_SIZE_CLASS, dtype: int64"
      ]
     },
     "execution_count": 26,
     "metadata": {},
     "output_type": "execute_result"
    }
   ],
   "source": [
    "fire_size"
   ]
  },
  {
   "cell_type": "code",
   "execution_count": 27,
   "metadata": {
    "ExecuteTime": {
     "end_time": "2019-11-18T05:36:22.001256Z",
     "start_time": "2019-11-18T05:36:21.851763Z"
    },
    "scrolled": true
   },
   "outputs": [
    {
     "data": {
      "image/png": "[encoded data removed]",
      "text/plain": [
       "<Figure size 576x360 with 1 Axes>"
      ]
     },
     "metadata": {
      "needs_background": "light"
     },
     "output_type": "display_data"
    }
   ],
   "source": [
    "fire_size.plot(kind = 'bar',figsize =(8,5))\n",
    "plt.title('Fire_size Classes')\n",
    "plt.show()"
   ]
  },
  {
   "cell_type": "code",
   "execution_count": 28,
   "metadata": {},
   "outputs": [],
   "source": [
    "fire_size_catagories ={'A' : '0.25', 'B': '0.26, 9.9', 'C': '10.0, 99.9', 'D': '100, 299', 'E': '300, 999',\\\n",
    "                       'F':'1000,4999', 'G':'5000'}"
   ]
  },
  {
   "cell_type": "code",
   "execution_count": 29,
   "metadata": {
    "ExecuteTime": {
     "end_time": "2019-11-18T05:36:22.365476Z",
     "start_time": "2019-11-18T05:36:22.004770Z"
    }
   },
   "outputs": [],
   "source": [
    "stat_cause = df_CA['STAT_CAUSE_DESCR'].value_counts().sort_values(ascending = False)"
   ]
  },
  {
   "cell_type": "code",
   "execution_count": 30,
   "metadata": {
    "ExecuteTime": {
     "end_time": "2019-11-18T05:36:22.375028Z",
     "start_time": "2019-11-18T05:36:22.368447Z"
    }
   },
   "outputs": [
    {
     "data": {
      "text/plain": [
       "Miscellaneous        51943\n",
       "Equipment Use        39407\n",
       "Lightning            27000\n",
       "Arson                19635\n",
       "Debris Burning       14318\n",
       "Missing/Undefined    12605\n",
       "Campfire              9516\n",
       "Children              6930\n",
       "Smoking               5936\n",
       "Powerline             1198\n",
       "Railroad               720\n",
       "Fireworks              219\n",
       "Structure              123\n",
       "Name: STAT_CAUSE_DESCR, dtype: int64"
      ]
     },
     "execution_count": 30,
     "metadata": {},
     "output_type": "execute_result"
    }
   ],
   "source": [
    "stat_cause"
   ]
  },
  {
   "cell_type": "code",
   "execution_count": 31,
   "metadata": {
    "ExecuteTime": {
     "end_time": "2019-11-18T05:36:22.546435Z",
     "start_time": "2019-11-18T05:36:22.378012Z"
    },
    "scrolled": true
   },
   "outputs": [
    {
     "data": {
      "image/png": "[encoded data removed]",
      "text/plain": [
       "<Figure size 576x288 with 1 Axes>"
      ]
     },
     "metadata": {
      "needs_background": "light"
     },
     "output_type": "display_data"
    }
   ],
   "source": [
    "stat_cause.plot(kind = 'bar',figsize=(8,4), grid = 1)\n",
    "plt.title('Stated Causes of WildFire in Califonia', fontweight ='bold')\n",
    "plt.ylabel('Number of wildfires', fontweight='bold')\n",
    "plt.show()"
   ]
  },
  {
   "cell_type": "markdown",
   "metadata": {},
   "source": [
    "## #Data Cleaning to make prediction for cause of fire"
   ]
  },
  {
   "cell_type": "code",
   "execution_count": 32,
   "metadata": {},
   "outputs": [
    {
     "data": {
      "text/plain": [
       "189550"
      ]
     },
     "execution_count": 32,
     "metadata": {},
     "output_type": "execute_result"
    }
   ],
   "source": [
    "len(df_CA)"
   ]
  },
  {
   "cell_type": "code",
   "execution_count": 33,
   "metadata": {},
   "outputs": [
    {
     "data": {
      "text/plain": [
       "OBJECTID            False\n",
       "FIRE_NAME            True\n",
       "FIRE_YEAR           False\n",
       "DISCOVERY_DATE      False\n",
       "DISCOVERY_DOY       False\n",
       "DISCOVERY_TIME       True\n",
       "STAT_CAUSE_CODE     False\n",
       "STAT_CAUSE_DESCR    False\n",
       "CONT_DATE            True\n",
       "CONT_DOY             True\n",
       "CONT_TIME            True\n",
       "FIRE_SIZE           False\n",
       "FIRE_SIZE_CLASS     False\n",
       "LATITUDE            False\n",
       "LONGITUDE           False\n",
       "OWNER_CODE          False\n",
       "OWNER_DESCR         False\n",
       "STATE               False\n",
       "COUNTY               True\n",
       "FIPS_NAME            True\n",
       "dtype: bool"
      ]
     },
     "execution_count": 33,
     "metadata": {},
     "output_type": "execute_result"
    }
   ],
   "source": [
    "df_CA.isnull().any()"
   ]
  },
  {
   "cell_type": "code",
   "execution_count": 34,
   "metadata": {},
   "outputs": [],
   "source": [
    "# percent of data dropped\n",
    "def count_nan(data):\n",
    "    return 100*(len(data) - len(data.dropna()))/ len(data)"
   ]
  },
  {
   "cell_type": "code",
   "execution_count": 35,
   "metadata": {},
   "outputs": [
    {
     "data": {
      "text/plain": [
       "51.51252967554735"
      ]
     },
     "execution_count": 35,
     "metadata": {},
     "output_type": "execute_result"
    }
   ],
   "source": [
    "count_nan(df_CA['CONT_DOY'])"
   ]
  },
  {
   "cell_type": "code",
   "execution_count": 36,
   "metadata": {},
   "outputs": [
    {
     "data": {
      "text/plain": [
       "70.33975204431549"
      ]
     },
     "execution_count": 36,
     "metadata": {},
     "output_type": "execute_result"
    }
   ],
   "source": [
    "count_nan(df_CA['COUNTY'])"
   ]
  },
  {
   "cell_type": "code",
   "execution_count": 37,
   "metadata": {},
   "outputs": [
    {
     "data": {
      "text/plain": [
       "110217"
      ]
     },
     "execution_count": 37,
     "metadata": {},
     "output_type": "execute_result"
    }
   ],
   "source": [
    "len(df_CA['DISCOVERY_TIME'].dropna())"
   ]
  },
  {
   "cell_type": "code",
   "execution_count": 38,
   "metadata": {},
   "outputs": [],
   "source": [
    "df_CA_0 = df_CA[['OBJECTID', 'FIRE_YEAR', 'DISCOVERY_DATE', 'DISCOVERY_DOY', 'DISCOVERY_TIME', 'STAT_CAUSE_CODE',\\\n",
    "      'CONT_DATE', 'CONT_DOY', 'CONT_TIME', 'FIRE_SIZE', 'LATITUDE', 'LONGITUDE', 'OWNER_CODE']]"
   ]
  },
  {
   "cell_type": "code",
   "execution_count": 39,
   "metadata": {},
   "outputs": [
    {
     "data": {
      "text/plain": [
       "189550"
      ]
     },
     "execution_count": 39,
     "metadata": {},
     "output_type": "execute_result"
    }
   ],
   "source": [
    "len(df_CA_0)"
   ]
  },
  {
   "cell_type": "code",
   "execution_count": 40,
   "metadata": {},
   "outputs": [
    {
     "data": {
      "text/plain": [
       "51.894486942759166"
      ]
     },
     "execution_count": 40,
     "metadata": {},
     "output_type": "execute_result"
    }
   ],
   "source": [
    "# percent of the data dropped because of NaN\n",
    "count_nan(df_CA_0)"
   ]
  },
  {
   "cell_type": "code",
   "execution_count": 41,
   "metadata": {},
   "outputs": [
    {
     "data": {
      "text/plain": [
       "91184"
      ]
     },
     "execution_count": 41,
     "metadata": {},
     "output_type": "execute_result"
    }
   ],
   "source": [
    "df_CA_1 = df_CA_0.dropna()\n",
    "len(df_CA_1)"
   ]
  },
  {
   "cell_type": "code",
   "execution_count": 42,
   "metadata": {},
   "outputs": [
    {
     "data": {
      "text/plain": [
       "OBJECTID           False\n",
       "FIRE_YEAR          False\n",
       "DISCOVERY_DATE     False\n",
       "DISCOVERY_DOY      False\n",
       "DISCOVERY_TIME     False\n",
       "STAT_CAUSE_CODE    False\n",
       "CONT_DATE          False\n",
       "CONT_DOY           False\n",
       "CONT_TIME          False\n",
       "FIRE_SIZE          False\n",
       "LATITUDE           False\n",
       "LONGITUDE          False\n",
       "OWNER_CODE         False\n",
       "dtype: bool"
      ]
     },
     "execution_count": 42,
     "metadata": {},
     "output_type": "execute_result"
    }
   ],
   "source": [
    "df_CA_1.isnull().any()"
   ]
  },
  {
   "cell_type": "markdown",
   "metadata": {},
   "source": [
    "### Predicting stated cause of fire "
   ]
  },
  {
   "cell_type": "code",
   "execution_count": 43,
   "metadata": {},
   "outputs": [
    {
     "data": {
      "text/plain": [
       "Index(['OBJECTID', 'FIRE_YEAR', 'DISCOVERY_DATE', 'DISCOVERY_DOY',\n",
       "       'DISCOVERY_TIME', 'STAT_CAUSE_CODE', 'CONT_DATE', 'CONT_DOY',\n",
       "       'CONT_TIME', 'FIRE_SIZE', 'LATITUDE', 'LONGITUDE', 'OWNER_CODE'],\n",
       "      dtype='object')"
      ]
     },
     "execution_count": 43,
     "metadata": {},
     "output_type": "execute_result"
    }
   ],
   "source": [
    "df_CA_1.columns"
   ]
  },
  {
   "cell_type": "code",
   "execution_count": 44,
   "metadata": {},
   "outputs": [],
   "source": [
    "features = ['FIRE_YEAR','DISCOVERY_DATE','DISCOVERY_DOY','DISCOVERY_TIME',\\\n",
    "            'CONT_DATE', 'CONT_DOY','CONT_TIME','FIRE_SIZE', 'LATITUDE','LONGITUDE']"
   ]
  },
  {
   "cell_type": "code",
   "execution_count": 45,
   "metadata": {},
   "outputs": [
    {
     "data": {
      "text/plain": [
       "array(['Miscellaneous', 'Lightning', 'Debris Burning', 'Campfire',\n",
       "       'Equipment Use', 'Arson', 'Children', 'Railroad', 'Smoking',\n",
       "       'Powerline', 'Structure', 'Fireworks', 'Missing/Undefined'],\n",
       "      dtype=object)"
      ]
     },
     "execution_count": 45,
     "metadata": {},
     "output_type": "execute_result"
    }
   ],
   "source": [
    "df['STAT_CAUSE_DESCR'].unique()"
   ]
  },
  {
   "cell_type": "code",
   "execution_count": 55,
   "metadata": {},
   "outputs": [
    {
     "data": {
      "text/html": [
       "<div>\n",
       "<style scoped>\n",
       "    .dataframe tbody tr th:only-of-type {\n",
       "        vertical-align: middle;\n",
       "    }\n",
       "\n",
       "    .dataframe tbody tr th {\n",
       "        vertical-align: top;\n",
       "    }\n",
       "\n",
       "    .dataframe thead th {\n",
       "        text-align: right;\n",
       "    }\n",
       "</style>\n",
       "<table border=\"1\" class=\"dataframe\">\n",
       "  <thead>\n",
       "    <tr style=\"text-align: right;\">\n",
       "      <th></th>\n",
       "      <th>OBJECTID</th>\n",
       "      <th>FIRE_NAME</th>\n",
       "      <th>FIRE_YEAR</th>\n",
       "      <th>DISCOVERY_DATE</th>\n",
       "      <th>DISCOVERY_DOY</th>\n",
       "      <th>DISCOVERY_TIME</th>\n",
       "      <th>STAT_CAUSE_CODE</th>\n",
       "      <th>STAT_CAUSE_DESCR</th>\n",
       "      <th>CONT_DATE</th>\n",
       "      <th>CONT_DOY</th>\n",
       "      <th>CONT_TIME</th>\n",
       "      <th>FIRE_SIZE</th>\n",
       "      <th>FIRE_SIZE_CLASS</th>\n",
       "      <th>LATITUDE</th>\n",
       "      <th>LONGITUDE</th>\n",
       "      <th>OWNER_CODE</th>\n",
       "      <th>OWNER_DESCR</th>\n",
       "      <th>STATE</th>\n",
       "      <th>COUNTY</th>\n",
       "      <th>FIPS_NAME</th>\n",
       "    </tr>\n",
       "  </thead>\n",
       "  <tbody>\n",
       "    <tr>\n",
       "      <th>181</th>\n",
       "      <td>182</td>\n",
       "      <td>TASSAJARA 1</td>\n",
       "      <td>2005</td>\n",
       "      <td>2453567.5</td>\n",
       "      <td>197</td>\n",
       "      <td>0315</td>\n",
       "      <td>3.0</td>\n",
       "      <td>Smoking</td>\n",
       "      <td>2453568.5</td>\n",
       "      <td>198.0</td>\n",
       "      <td>1500</td>\n",
       "      <td>0.3</td>\n",
       "      <td>B</td>\n",
       "      <td>36.242500</td>\n",
       "      <td>-121.551111</td>\n",
       "      <td>5.0</td>\n",
       "      <td>USFS</td>\n",
       "      <td>CA</td>\n",
       "      <td>None</td>\n",
       "      <td>None</td>\n",
       "    </tr>\n",
       "    <tr>\n",
       "      <th>182</th>\n",
       "      <td>183</td>\n",
       "      <td>TASSAJARA 2</td>\n",
       "      <td>2005</td>\n",
       "      <td>2453567.5</td>\n",
       "      <td>197</td>\n",
       "      <td>0545</td>\n",
       "      <td>3.0</td>\n",
       "      <td>Smoking</td>\n",
       "      <td>2453567.5</td>\n",
       "      <td>197.0</td>\n",
       "      <td>1830</td>\n",
       "      <td>0.1</td>\n",
       "      <td>A</td>\n",
       "      <td>36.242500</td>\n",
       "      <td>-121.548056</td>\n",
       "      <td>5.0</td>\n",
       "      <td>USFS</td>\n",
       "      <td>CA</td>\n",
       "      <td>None</td>\n",
       "      <td>None</td>\n",
       "    </tr>\n",
       "    <tr>\n",
       "      <th>195</th>\n",
       "      <td>196</td>\n",
       "      <td>CEMETERY POINT</td>\n",
       "      <td>2005</td>\n",
       "      <td>2453569.5</td>\n",
       "      <td>199</td>\n",
       "      <td>1600</td>\n",
       "      <td>3.0</td>\n",
       "      <td>Smoking</td>\n",
       "      <td>2453569.5</td>\n",
       "      <td>199.0</td>\n",
       "      <td>1630</td>\n",
       "      <td>0.1</td>\n",
       "      <td>A</td>\n",
       "      <td>41.264167</td>\n",
       "      <td>-111.795833</td>\n",
       "      <td>5.0</td>\n",
       "      <td>USFS</td>\n",
       "      <td>UT</td>\n",
       "      <td>57</td>\n",
       "      <td>Weber</td>\n",
       "    </tr>\n",
       "    <tr>\n",
       "      <th>231</th>\n",
       "      <td>232</td>\n",
       "      <td>PECHACHO</td>\n",
       "      <td>2005</td>\n",
       "      <td>2453563.5</td>\n",
       "      <td>193</td>\n",
       "      <td>1445</td>\n",
       "      <td>3.0</td>\n",
       "      <td>Smoking</td>\n",
       "      <td>2453563.5</td>\n",
       "      <td>193.0</td>\n",
       "      <td>1530</td>\n",
       "      <td>0.1</td>\n",
       "      <td>A</td>\n",
       "      <td>35.464444</td>\n",
       "      <td>-118.756389</td>\n",
       "      <td>5.0</td>\n",
       "      <td>USFS</td>\n",
       "      <td>CA</td>\n",
       "      <td>None</td>\n",
       "      <td>None</td>\n",
       "    </tr>\n",
       "    <tr>\n",
       "      <th>280</th>\n",
       "      <td>281</td>\n",
       "      <td>BEAR</td>\n",
       "      <td>2005</td>\n",
       "      <td>2453553.5</td>\n",
       "      <td>183</td>\n",
       "      <td>1230</td>\n",
       "      <td>3.0</td>\n",
       "      <td>Smoking</td>\n",
       "      <td>2453553.5</td>\n",
       "      <td>183.0</td>\n",
       "      <td>1500</td>\n",
       "      <td>0.1</td>\n",
       "      <td>A</td>\n",
       "      <td>34.414444</td>\n",
       "      <td>-111.009722</td>\n",
       "      <td>5.0</td>\n",
       "      <td>USFS</td>\n",
       "      <td>AZ</td>\n",
       "      <td>5</td>\n",
       "      <td>Coconino</td>\n",
       "    </tr>\n",
       "  </tbody>\n",
       "</table>\n",
       "</div>"
      ],
      "text/plain": [
       "     OBJECTID       FIRE_NAME  FIRE_YEAR  DISCOVERY_DATE  DISCOVERY_DOY  \\\n",
       "181       182     TASSAJARA 1       2005       2453567.5            197   \n",
       "182       183     TASSAJARA 2       2005       2453567.5            197   \n",
       "195       196  CEMETERY POINT       2005       2453569.5            199   \n",
       "231       232        PECHACHO       2005       2453563.5            193   \n",
       "280       281            BEAR       2005       2453553.5            183   \n",
       "\n",
       "    DISCOVERY_TIME  STAT_CAUSE_CODE STAT_CAUSE_DESCR  CONT_DATE  CONT_DOY  \\\n",
       "181           0315              3.0          Smoking  2453568.5     198.0   \n",
       "182           0545              3.0          Smoking  2453567.5     197.0   \n",
       "195           1600              3.0          Smoking  2453569.5     199.0   \n",
       "231           1445              3.0          Smoking  2453563.5     193.0   \n",
       "280           1230              3.0          Smoking  2453553.5     183.0   \n",
       "\n",
       "    CONT_TIME  FIRE_SIZE FIRE_SIZE_CLASS   LATITUDE   LONGITUDE  OWNER_CODE  \\\n",
       "181      1500        0.3               B  36.242500 -121.551111         5.0   \n",
       "182      1830        0.1               A  36.242500 -121.548056         5.0   \n",
       "195      1630        0.1               A  41.264167 -111.795833         5.0   \n",
       "231      1530        0.1               A  35.464444 -118.756389         5.0   \n",
       "280      1500        0.1               A  34.414444 -111.009722         5.0   \n",
       "\n",
       "    OWNER_DESCR STATE COUNTY FIPS_NAME  \n",
       "181        USFS    CA   None      None  \n",
       "182        USFS    CA   None      None  \n",
       "195        USFS    UT     57     Weber  \n",
       "231        USFS    CA   None      None  \n",
       "280        USFS    AZ      5  Coconino  "
      ]
     },
     "execution_count": 55,
     "metadata": {},
     "output_type": "execute_result"
    }
   ],
   "source": [
    "df[df['STAT_CAUSE_CODE']==3.0].head()"
   ]
  },
  {
   "cell_type": "code",
   "execution_count": 47,
   "metadata": {},
   "outputs": [],
   "source": [
    "stat_cause_dict = {'Miscellaneous': 9.0,\n",
    "                    'Lightning':1.0,\n",
    "                    'Debris Burning': 5.0,\n",
    "                    'Missing/Undefined': 13.0,\n",
    "                    'Equipment Use': 2.0,\n",
    "                    'Campfire': 4.0,\n",
    "                    'Children': 8.0,\n",
    "                    'Smoking': 3.0,\n",
    "                    'Railroad': 6.0,\n",
    "                    'Powerline': 11.0, \n",
    "                    'Fireworks':10.0,\n",
    "                    'Structure': 12.0,\n",
    "                    'Arson': 7.0}"
   ]
  },
  {
   "cell_type": "code",
   "execution_count": 48,
   "metadata": {},
   "outputs": [
    {
     "name": "stdout",
     "output_type": "stream",
     "text": [
      "[9.0, 1.0, 5.0, 4.0, 2.0, 7.0, 8.0, 6.0, 3.0, 11.0, 12.0, 10.0, 13.0]\n"
     ]
    }
   ],
   "source": [
    "stat_cause_code = df['STAT_CAUSE_CODE'].unique().tolist()\n",
    "print(stat_cause_code)"
   ]
  },
  {
   "cell_type": "markdown",
   "metadata": {},
   "source": [
    "Partitioning the data\n",
    "The data is shuffled and divided as follow:\n",
    "85% of the data is used to perform bootstrap analysis of training variability. This data is partitioned into training and validation many times to produce many validation-set predictions for each example\n",
    "70% Training: Used to train the model\n",
    "15% Validation: Used to evaluate the model\n",
    "15% of the data is held-out for final testing."
   ]
  },
  {
   "cell_type": "code",
   "execution_count": 49,
   "metadata": {},
   "outputs": [],
   "source": [
    "X = df_CA_1[features].to_numpy()"
   ]
  },
  {
   "cell_type": "code",
   "execution_count": 50,
   "metadata": {},
   "outputs": [],
   "source": [
    "#y = np.int64((df_CA_1['STAT_CAUSE_CODE']).to_numpy())\n",
    "# for one vs the rest binary classification\n",
    "firecode = 9\n",
    "y = ((df_CA_1['STAT_CAUSE_CODE'] == firecode) * 1).to_numpy()"
   ]
  },
  {
   "cell_type": "code",
   "execution_count": 51,
   "metadata": {},
   "outputs": [],
   "source": [
    "X_train, X_test, y_train, y_test = train_test_split(X, y, test_size=0.30)\n",
    "X_test, X_val, y_test, y_val = train_test_split(X_test, y_test, test_size=0.5)\n",
    "\n"
   ]
  },
  {
   "cell_type": "code",
   "execution_count": 52,
   "metadata": {},
   "outputs": [
    {
     "data": {
      "text/plain": [
       "DecisionTreeClassifier(ccp_alpha=0.0, class_weight=None, criterion='gini',\n",
       "                       max_depth=None, max_features=None, max_leaf_nodes=20,\n",
       "                       min_impurity_decrease=0.0, min_impurity_split=None,\n",
       "                       min_samples_leaf=1, min_samples_split=2,\n",
       "                       min_weight_fraction_leaf=0.0, presort='deprecated',\n",
       "                       random_state=None, splitter='best')"
      ]
     },
     "execution_count": 52,
     "metadata": {},
     "output_type": "execute_result"
    }
   ],
   "source": [
    "d_classifier = DecisionTreeClassifier(max_leaf_nodes= 20 )\n",
    "d_classifier.fit(X_train, y_train)"
   ]
  },
  {
   "cell_type": "code",
   "execution_count": 53,
   "metadata": {},
   "outputs": [
    {
     "name": "stdout",
     "output_type": "stream",
     "text": [
      "[0 0 0 0 0 0 0 0 0 0 0 0 0 0 0 0 0 0 0 0]\n",
      "[0 0 0 0 0 1 0 0 0 0 0 1 0 0 0 0 0 0 0 0]\n",
      "accuracy = 0.7759175318028951\n"
     ]
    }
   ],
   "source": [
    "# Validation\n",
    "preds_val = d_classifier.predict(X_val)\n",
    "print(preds_val[:20])\n",
    "print(y_val[:20])\n",
    "print('accuracy =', accuracy_score(y_true = y_val, y_pred = preds_val))"
   ]
  },
  {
   "cell_type": "code",
   "execution_count": 54,
   "metadata": {},
   "outputs": [
    {
     "name": "stdout",
     "output_type": "stream",
     "text": [
      "[0 0 0 0 0 0 0 0 0 0 0 0 0 0 0 0 0 0 0 0]\n",
      "[1 0 1 0 1 0 1 1 0 0 0 0 0 1 0 0 1 0 1 1]\n",
      "accuracy = 0.7709460447433836\n"
     ]
    }
   ],
   "source": [
    "# Testing\n",
    "preds = d_classifier.predict(X_test)\n",
    "print(preds[:20])\n",
    "print(y_test[:20])\n",
    "print('accuracy =', accuracy_score(y_true = y_test, y_pred = preds))"
   ]
  },
  {
   "cell_type": "code",
   "execution_count": null,
   "metadata": {},
   "outputs": [],
   "source": []
  }
 ],
 "metadata": {
  "kernelspec": {
   "display_name": "Python 3",
   "language": "python",
   "name": "python3"
  },
  "language_info": {
   "codemirror_mode": {
    "name": "ipython",
    "version": 3
   },
   "file_extension": ".py",
   "mimetype": "text/x-python",
   "name": "python",
   "nbconvert_exporter": "python",
   "pygments_lexer": "ipython3",
   "version": "3.7.4"
  },
  "toc": {
   "base_numbering": 1,
   "nav_menu": {},
   "number_sections": true,
   "sideBar": true,
   "skip_h1_title": false,
   "title_cell": "Table of Contents",
   "title_sidebar": "Contents",
   "toc_cell": false,
   "toc_position": {},
   "toc_section_display": true,
   "toc_window_display": false
  },
  "varInspector": {
   "cols": {
    "lenName": 16,
    "lenType": 16,
    "lenVar": 40
   },
   "kernels_config": {
    "python": {
     "delete_cmd_postfix": "",
     "delete_cmd_prefix": "del ",
     "library": "var_list.py",
     "varRefreshCmd": "print(var_dic_list())"
    },
    "r": {
     "delete_cmd_postfix": ") ",
     "delete_cmd_prefix": "rm(",
     "library": "var_list.r",
     "varRefreshCmd": "cat(var_dic_list()) "
    }
   },
   "types_to_exclude": [
    "module",
    "function",
    "builtin_function_or_method",
    "instance",
    "_Feature"
   ],
   "window_display": false
  }
 },
 "nbformat": 4,
 "nbformat_minor": 2
}
